{
  "nbformat": 4,
  "nbformat_minor": 0,
  "metadata": {
    "colab": {
      "name": "OrdenTopologico.ipynb",
      "provenance": [],
      "authorship_tag": "ABX9TyPM9iKjl4pgPjCj8Q1in3GI",
      "include_colab_link": true
    },
    "kernelspec": {
      "name": "python3",
      "display_name": "Python 3"
    }
  },
  "cells": [
    {
      "cell_type": "markdown",
      "metadata": {
        "id": "view-in-github",
        "colab_type": "text"
      },
      "source": [
        "<a href=\"https://colab.research.google.com/github/Codigcar/ComplejidadAlgoritmica/blob/master/week06/OrdenTopologico.ipynb\" target=\"_parent\"><img src=\"https://colab.research.google.com/assets/colab-badge.svg\" alt=\"Open In Colab\"/></a>"
      ]
    },
    {
      "cell_type": "code",
      "metadata": {
        "id": "uKwUx6w_VAFH",
        "colab_type": "code",
        "colab": {}
      },
      "source": [
        "def ordenTopologico(Grafo):\n",
        "  cantidadElementos=len(Grafo)\n",
        "  visitados=[False for i in range(cantidadElementos)]\n",
        "  pila=[]\n",
        "  def dfs(nodo):\n",
        "    if visitados[nodo]:\n",
        "      return\n",
        "    visitados[nodo]=True\n",
        "\n",
        "    for vecino in Grafo[nodo]: #si nodo es 2 [4,1,5]\n",
        "      if visitados[vecino]:\n",
        "        continue\n",
        "      dfs(vecino)             #si el vecino no ha sido visitado regresa a esta funcion\n",
        "    pila.append(nodo)\n",
        "\n",
        "  for i in range(cantidadElementos):    #recorremos los nodos y a cada nodo le pasamos busqueda en profundidad\n",
        "    dfs(i)\n",
        "  return list(pila)  \n"
      ],
      "execution_count": 0,
      "outputs": []
    },
    {
      "cell_type": "code",
      "metadata": {
        "id": "uq6chIKDVciR",
        "colab_type": "code",
        "colab": {}
      },
      "source": [
        "#TOMANDO COMO EJEMPLO EL GRAFO EN LA PPT 27 - OrdenTopologico\n",
        "G3=[\n",
        "[], #vecinos del nodo 0\n",
        "[4], #vecinos del nodo 1\n",
        "[], #vecinos del nodo 2\n",
        "[6],\n",
        "[5],\n",
        "[2,3],\n",
        "[2]\n",
        "]"
      ],
      "execution_count": 0,
      "outputs": []
    },
    {
      "cell_type": "code",
      "metadata": {
        "id": "JNpIEKBPV_6R",
        "colab_type": "code",
        "colab": {
          "base_uri": "https://localhost:8080/",
          "height": 34
        },
        "outputId": "111cdb5b-36c0-4d6d-ea7b-3c4f3a4ba784"
      },
      "source": [
        "solucion=ordenTopologico(G3)\n",
        "solucion.reverse()\n",
        "print(solucion)"
      ],
      "execution_count": 37,
      "outputs": [
        {
          "output_type": "stream",
          "text": [
            "[1, 4, 5, 3, 6, 2, 0]\n"
          ],
          "name": "stdout"
        }
      ]
    }
  ]
}