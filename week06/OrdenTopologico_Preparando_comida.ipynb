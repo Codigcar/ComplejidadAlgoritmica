{
  "nbformat": 4,
  "nbformat_minor": 0,
  "metadata": {
    "colab": {
      "name": "OrdenTopologico_Preparando_comida.ipynb",
      "provenance": [],
      "authorship_tag": "ABX9TyPVIKXOgVv3VxshSkgQVAXb",
      "include_colab_link": true
    },
    "kernelspec": {
      "name": "python3",
      "display_name": "Python 3"
    }
  },
  "cells": [
    {
      "cell_type": "markdown",
      "metadata": {
        "id": "view-in-github",
        "colab_type": "text"
      },
      "source": [
        "<a href=\"https://colab.research.google.com/github/Codigcar/ComplejidadAlgoritmica/blob/master/week06/OrdenTopologico_Preparando_comida.ipynb\" target=\"_parent\"><img src=\"https://colab.research.google.com/assets/colab-badge.svg\" alt=\"Open In Colab\"/></a>"
      ]
    },
    {
      "cell_type": "code",
      "metadata": {
        "id": "szClcMQzlqi8",
        "colab_type": "code",
        "colab": {
          "base_uri": "https://localhost:8080/",
          "height": 323
        },
        "outputId": "fd78a888-6457-41a1-9f02-0ef2514b2d62"
      },
      "source": [
        "def ordenTopologico(Grafo):\n",
        "  cantidadElementos=len(Grafo)\n",
        "  visitados=[False for i in range(cantidadElementos)]\n",
        "  pila=[]\n",
        "  def dfs(nodo):\n",
        "    if visitados[nodo]:\n",
        "      return\n",
        "    visitados[nodo]=True\n",
        "\n",
        "    for vecino in Grafo[nodo]: #si nodo es 2 [4,1,5]\n",
        "      if visitados[vecino]:\n",
        "        continue\n",
        "      dfs(vecino)\n",
        "    pila.append(nodo)\n",
        "\n",
        "  for i in range(cantidadElementos):\n",
        "    dfs(i)\n",
        "  return list(pila)\n",
        "  #Probando \n",
        "G=[\n",
        "[3],#0\n",
        "[3],\n",
        "[3],\n",
        "[4,5],\n",
        "[8],\n",
        "[7],\n",
        "[5],\n",
        "[8],\n",
        "[],\n",
        "]\n",
        "\n",
        "solucion=ordenTopologico(G)\n",
        "solucion.reverse()\n",
        "def acti(i):\n",
        "    switcher = {\n",
        "        0: \"3/4 de taza de leche\",\n",
        "        1: \"1 huevo\",\n",
        "        2: \"1 cucharada de aceite\",\n",
        "        3: \"Una taza de mezcla\",\n",
        "        4: \"Calentar jarabe\",\n",
        "        5: \"verter 1/4 de taza\",\n",
        "        6: \"calentar la plancha\",\n",
        "        7: \"voltear cuando burbujee\",\n",
        "        8: \"comer\"\n",
        "    }\n",
        "    return switcher.get(i)\n",
        "\n",
        "for i in range (len(solucion)):\n",
        "  print(acti(solucion[i])+'\\n')"
      ],
      "execution_count": 1,
      "outputs": [
        {
          "output_type": "stream",
          "text": [
            "calentar la plancha\n",
            "\n",
            "1 cucharada de aceite\n",
            "\n",
            "1 huevo\n",
            "\n",
            "3/4 de taza de leche\n",
            "\n",
            "Una taza de mezcla\n",
            "\n",
            "verter 1/4 de taza\n",
            "\n",
            "voltear cuando burbujee\n",
            "\n",
            "Calentar jarabe\n",
            "\n",
            "comer\n",
            "\n"
          ],
          "name": "stdout"
        }
      ]
    }
  ]
}