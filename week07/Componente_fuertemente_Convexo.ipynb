{
  "nbformat": 4,
  "nbformat_minor": 0,
  "metadata": {
    "colab": {
      "name": "Componente_fuertemente_Convexo.ipynb",
      "provenance": [],
      "authorship_tag": "ABX9TyPuJKL11YiniSPHjUdJvSHD",
      "include_colab_link": true
    },
    "kernelspec": {
      "name": "python3",
      "display_name": "Python 3"
    }
  },
  "cells": [
    {
      "cell_type": "markdown",
      "metadata": {
        "id": "view-in-github",
        "colab_type": "text"
      },
      "source": [
        "<a href=\"https://colab.research.google.com/github/Codigcar/ComplejidadAlgoritmica/blob/master/week07/Componente_fuertemente_Convexo.ipynb\" target=\"_parent\"><img src=\"https://colab.research.google.com/assets/colab-badge.svg\" alt=\"Open In Colab\"/></a>"
      ]
    },
    {
      "cell_type": "code",
      "metadata": {
        "id": "_z5rNLwb4nv2",
        "colab_type": "code",
        "colab": {}
      },
      "source": [
        "import heapq as hq\n",
        "def kojarasu(Grafo):\n",
        "  tamanio=len(Grafo)\n",
        "  Ginvertido=[[] for _ in range(tamanio)]\n",
        "  #INVERTIR EL Grafo\n",
        "  for u in range(tamanio):\n",
        "    for v in Grafo[u]:\n",
        "      Ginvertido[v].append(u)\n",
        "\n",
        "  visitado=[False]*tamanio\n",
        "  queue=[]\n",
        "  indice=[0]\n",
        "  #primer recorrido\n",
        "  #juntar=[]\n",
        "  def dfs1(nodo):\n",
        "    if not visitado[nodo]:\n",
        "      visitado[nodo]=True\n",
        "      #juntar.append(nodo)\n",
        "      print(nodo)\n",
        "      for v in Ginvertido[nodo]:\n",
        "        dfs1(v)\n",
        "      indice[0]+=1\n",
        "      #agragamos a la cola con el indice y el NotADirectoryError\n",
        "      hq.heappush(queue, (tamanio-indice[0], nodo)) #aplilado por prioridad\n",
        "  for u in range(tamanio):\n",
        "    dfs1(u)\n",
        "  \n",
        "  #segunda parte\n",
        "  visitado=[False]*tamanio\n",
        "  CFC=[]\n",
        "  def dfs2(nodo, ngrafo):\n",
        "    if not visitado[nodo]:\n",
        "      visitado[nodo]=True\n",
        "      for v in Grafo[nodo]:\n",
        "        dfs2(v,ngrafo)\n",
        "      ngrafo.append(nodo)\n",
        "\n",
        "  #recorremos la cola\n",
        "  while len(queue)>0:\n",
        "    _,nodo =hq.heappop(queue)\n",
        "    if not visitado[nodo]:\n",
        "      ngrafo=[]\n",
        "      dfs2(nodo,ngrafo)\n",
        "      CFC.append(ngrafo)\n",
        "  \n",
        "  return CFC\n"
      ],
      "execution_count": 0,
      "outputs": []
    },
    {
      "cell_type": "code",
      "metadata": {
        "id": "VJ4ZPYTsDnuo",
        "colab_type": "code",
        "colab": {
          "base_uri": "https://localhost:8080/",
          "height": 170
        },
        "outputId": "5a2fe0ba-5b90-4f29-bab4-d929d8b8c6df"
      },
      "source": [
        "\n",
        "G=[\n",
        "[1],\n",
        "[2,4,5],\n",
        "[3,6],\n",
        "[2,7],\n",
        "[0,5],\n",
        "[6],\n",
        "[5],\n",
        "[3,6]\n",
        "]\n",
        "\n",
        "print(kojarasu(G))"
      ],
      "execution_count": 3,
      "outputs": [
        {
          "output_type": "stream",
          "text": [
            "0\n",
            "4\n",
            "1\n",
            "2\n",
            "3\n",
            "7\n",
            "5\n",
            "6\n",
            "[[6, 5], [7, 3, 2], [4, 1, 0]]\n"
          ],
          "name": "stdout"
        }
      ]
    }
  ]
}