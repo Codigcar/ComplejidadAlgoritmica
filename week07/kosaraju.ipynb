{
  "nbformat": 4,
  "nbformat_minor": 0,
  "metadata": {
    "colab": {
      "name": "kosaraju.ipynb",
      "provenance": [],
      "collapsed_sections": [],
      "authorship_tag": "ABX9TyMwtRkrgyi3XCLmfp77nP+B",
      "include_colab_link": true
    },
    "kernelspec": {
      "name": "python3",
      "display_name": "Python 3"
    }
  },
  "cells": [
    {
      "cell_type": "markdown",
      "metadata": {
        "id": "view-in-github",
        "colab_type": "text"
      },
      "source": [
        "<a href=\"https://colab.research.google.com/github/Codigcar/ComplejidadAlgoritmica/blob/master/week07/kosaraju.ipynb\" target=\"_parent\"><img src=\"https://colab.research.google.com/assets/colab-badge.svg\" alt=\"Open In Colab\"/></a>"
      ]
    },
    {
      "cell_type": "code",
      "metadata": {
        "id": "e7Dti0yZneQJ",
        "colab_type": "code",
        "colab": {}
      },
      "source": [
        "import graphviz as gv"
      ],
      "execution_count": 0,
      "outputs": []
    },
    {
      "cell_type": "code",
      "metadata": {
        "id": "0cKeGXVrhvl2",
        "colab_type": "code",
        "colab": {
          "base_uri": "https://localhost:8080/",
          "height": 54
        },
        "outputId": "9cbae25c-fb21-48b2-bbb7-bf07e43da0a5"
      },
      "source": [
        "import heapq as hq\n",
        "\n",
        "def kosaraju(G):\n",
        "        n = len(G)\n",
        "        Grev = [[] for _ in range(n)]\n",
        "        for u in range(n): #recorre nodos        0,1,2,3,4,5,6,7,8,9\n",
        "          for v in G[u]:    # recorre veritces   4,8,6,7,2,9,1,[6,5],[3,7]\n",
        "            Grev[v].append(u)\n",
        "\n",
        "      #  f = [None]*n            # ordenes de finalizacion por vertice\n",
        "        f = []\n",
        "        visited = [False]*n   \n",
        "        cont = [0]              # contador de orden de finalizacion\n",
        "\n",
        "        def dfs1(u):\n",
        "            if not visited[u]:\n",
        "              visited[u] = True\n",
        "              for v in Grev[u]:\n",
        "                if not visited[v]:\n",
        "                  dfs1(v)\n",
        "\n",
        "              cont[0] += 1\n",
        "              #f[u] = cont[0]\n",
        "              hq.heappush(f, (-cont[0], u))   #asignando descendentemente\n",
        "            \n",
        "        def dfs2(u):\n",
        "              if not visited[u]:\n",
        "                visited[u] = True\n",
        "                for v in G[u]:\n",
        "                  if not visited[v]:\n",
        "                    dfs2(v)    \n",
        "                print(u, end =' ')\n",
        "\n",
        "\n",
        "        dfs1(1)\n",
        "        visited = [False]*n\n",
        "\n",
        "        while len(f):\n",
        "          _, u = hq.heappop(f)\n",
        "          dfs2(u)\n",
        "          print(\"\")\n",
        "'''\n",
        "            print(f)\n",
        "\n",
        "            # SOLO POR DEBUG\n",
        "            for l in Grev:\n",
        "              print(l)\n",
        "            #FIN SOLO POR DEBUG\n",
        "'''"
      ],
      "execution_count": 36,
      "outputs": [
        {
          "output_type": "execute_result",
          "data": {
            "text/plain": [
              "'\\n            print(f)\\n\\n            # SOLO POR DEBUG\\n            for l in Grev:\\n              print(l)\\n            #FIN SOLO POR DEBUG\\n'"
            ]
          },
          "metadata": {
            "tags": []
          },
          "execution_count": 36
        }
      ]
    },
    {
      "cell_type": "code",
      "metadata": {
        "id": "KNGXvm_1-DlS",
        "colab_type": "code",
        "colab": {}
      },
      "source": [
        ""
      ],
      "execution_count": 0,
      "outputs": []
    },
    {
      "cell_type": "code",
      "metadata": {
        "id": "fQce5Jp4h4iJ",
        "colab_type": "code",
        "colab": {}
      },
      "source": [
        "G= [[],\n",
        "    [4],\n",
        "    [8],\n",
        "    [6],\n",
        "    [7],\n",
        "    [2],\n",
        "    [9],\n",
        "    [1],\n",
        "    [5,6],\n",
        "    [3,7]]"
      ],
      "execution_count": 0,
      "outputs": []
    },
    {
      "cell_type": "code",
      "metadata": {
        "id": "TYPcQ2IanBo8",
        "colab_type": "code",
        "colab": {
          "base_uri": "https://localhost:8080/",
          "height": 168
        },
        "outputId": "f1736460-0c3e-469f-f8b4-e960a579e03d"
      },
      "source": [
        "kosaraju(G)"
      ],
      "execution_count": 37,
      "outputs": [
        {
          "output_type": "stream",
          "text": [
            "7 4 1 \n",
            "\n",
            "6 3 9 \n",
            "\n",
            "2 5 8 \n",
            "\n",
            "\n",
            "\n",
            "\n"
          ],
          "name": "stdout"
        }
      ]
    }
  ]
}