{
  "nbformat": 4,
  "nbformat_minor": 0,
  "metadata": {
    "colab": {
      "name": "BFS.ipynb",
      "provenance": [],
      "authorship_tag": "ABX9TyMDCrTogR4yRrx/VZtL9UaQ",
      "include_colab_link": true
    },
    "kernelspec": {
      "name": "python3",
      "display_name": "Python 3"
    }
  },
  "cells": [
    {
      "cell_type": "markdown",
      "metadata": {
        "id": "view-in-github",
        "colab_type": "text"
      },
      "source": [
        "<a href=\"https://colab.research.google.com/github/Codigcar/ComplejidadAlgoritmica/blob/master/week04/BFS.ipynb\" target=\"_parent\"><img src=\"https://colab.research.google.com/assets/colab-badge.svg\" alt=\"Open In Colab\"/></a>"
      ]
    },
    {
      "cell_type": "markdown",
      "metadata": {
        "id": "v5WXkZwGDsym",
        "colab_type": "text"
      },
      "source": [
        "##BFS"
      ]
    },
    {
      "cell_type": "markdown",
      "metadata": {
        "id": "UDE8RXIIDwS7",
        "colab_type": "text"
      },
      "source": [
        "#Breadth First Search\n"
      ]
    },
    {
      "cell_type": "code",
      "metadata": {
        "id": "vMDSMHJADoVA",
        "colab_type": "code",
        "colab": {}
      },
      "source": [
        "\"\"\"\n",
        "G: es un grafo enforma de matrix de adyacencia\n",
        "s: es el nodo inicial (start)\n",
        "n = numero de vertices del grafo\n",
        "(u,v) es un arco\n",
        "\"\"\"\n",
        "def bfs( G , s):\n",
        "  n = len(G)\n",
        "  visited = [False]*n\n",
        "  parent = [None]*n\n",
        "  queue = [s]\n",
        "  visited[s] = True\n",
        "  while len(queue) > 0:\n",
        "    print(queue)\n",
        "    u = queue[0] # es un vertice, el vertice inicial de un arco\n",
        "    queue = queue[1:]\n",
        "    for v in range(n):\n",
        "      if G[u][v] == 1 and not visited[v]:\n",
        "        visited[v] = True\n",
        "        parent[v] = u\n",
        "        queue.append(v)\n",
        "\n",
        "  print(parent)\n",
        "  print(visited)\n",
        "\n",
        "  return parent"
      ],
      "execution_count": 0,
      "outputs": []
    },
    {
      "cell_type": "code",
      "metadata": {
        "id": "gVELs9oBKQk7",
        "colab_type": "code",
        "colab": {}
      },
      "source": [
        "G = [[0,0,0,0,1,0,0,0], # (0,4)\n",
        "     [0,0,0,0,0,1,1,0], # (1,5), (1,6)\n",
        "     [0,0,0,0,1,0,0,0], # (2,4)\n",
        "     [0,0,0,0,0,0,0,1], # (3,7)\n",
        "     [1,0,1,0,0,0,1,1], # (4,0), (4,2), (4,6), (4,7)\n",
        "     [0,1,0,0,0,0,1,1], # ...\n",
        "     [0,1,0,0,1,1,0,0],\n",
        "     [0,0,0,1,1,1,0,0]]"
      ],
      "execution_count": 0,
      "outputs": []
    },
    {
      "cell_type": "code",
      "metadata": {
        "id": "iNhBaKZ0LVDt",
        "colab_type": "code",
        "colab": {
          "base_uri": "https://localhost:8080/",
          "height": 204
        },
        "outputId": "7920b0d6-fd62-46cd-ce77-3df763f93423"
      },
      "source": [
        "bfs(G, 4)"
      ],
      "execution_count": 7,
      "outputs": [
        {
          "output_type": "stream",
          "text": [
            "[4]\n",
            "[0, 2, 6, 7]\n",
            "[2, 6, 7]\n",
            "[6, 7]\n",
            "[7, 1, 5]\n",
            "[1, 5, 3]\n",
            "[5, 3]\n",
            "[3]\n",
            "[4, 6, 4, 7, None, 6, 4, 4]\n",
            "[True, True, True, True, True, True, True, True]\n"
          ],
          "name": "stdout"
        },
        {
          "output_type": "execute_result",
          "data": {
            "text/plain": [
              "[4, 6, 4, 7, None, 6, 4, 4]"
            ]
          },
          "metadata": {
            "tags": []
          },
          "execution_count": 7
        }
      ]
    }
  ]
}