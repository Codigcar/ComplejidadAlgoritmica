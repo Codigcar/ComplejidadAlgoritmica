{
  "nbformat": 4,
  "nbformat_minor": 0,
  "metadata": {
    "colab": {
      "name": "BFS.ipynb",
      "provenance": [],
      "authorship_tag": "ABX9TyP+cm3eMzZpmlQKDcVvF65N",
      "include_colab_link": true
    },
    "kernelspec": {
      "name": "python3",
      "display_name": "Python 3"
    }
  },
  "cells": [
    {
      "cell_type": "markdown",
      "metadata": {
        "id": "view-in-github",
        "colab_type": "text"
      },
      "source": [
        "<a href=\"https://colab.research.google.com/github/Codigcar/ComplejidadAlgoritmica/blob/master/week04/BFS.ipynb\" target=\"_parent\"><img src=\"https://colab.research.google.com/assets/colab-badge.svg\" alt=\"Open In Colab\"/></a>"
      ]
    },
    {
      "cell_type": "markdown",
      "metadata": {
        "id": "v5WXkZwGDsym",
        "colab_type": "text"
      },
      "source": [
        "##BFS"
      ]
    },
    {
      "cell_type": "markdown",
      "metadata": {
        "id": "UDE8RXIIDwS7",
        "colab_type": "text"
      },
      "source": [
        "#Breadth First Search\n"
      ]
    },
    {
      "cell_type": "code",
      "metadata": {
        "id": "vMDSMHJADoVA",
        "colab_type": "code",
        "colab": {}
      },
      "source": [
        "\"\"\"\n",
        "G: es un grafo enforma de matrix de adyacencia\n",
        "s: es el nodo inicial (start)\n",
        "n = numero de vertices del grafo\n",
        "(u,v) es un arco\n",
        "\"\"\"\n",
        "def bfs( G , s):\n",
        "  n = len(G)\n",
        "  visited = [False]*n\n",
        "  parent = [None]*n\n",
        "  queue = [s]\n",
        "  visited[s] = True\n",
        "  while len(queue) > 0:\n",
        "   # print(queue)\n",
        "    u = queue[0] # es un vertice, el vertice inicial de un arco\n",
        "    queue = queue[1:]\n",
        "    for v in range(n):\n",
        "      if G[u][v] == 1 and not visited[v]:\n",
        "        visited[v] = True\n",
        "        parent[v] = u\n",
        "        queue.append(v)\n",
        "\n",
        "  #print(parent)\n",
        "  #print(visited)\n",
        "\n",
        "  return parent"
      ],
      "execution_count": 0,
      "outputs": []
    },
    {
      "cell_type": "code",
      "metadata": {
        "id": "gVELs9oBKQk7",
        "colab_type": "code",
        "colab": {}
      },
      "source": [
        "G = [[0,0,0,0,1,0,0,0], # (0,4)\n",
        "     [0,0,0,0,0,1,1,0], # (1,5), (1,6)\n",
        "     [0,0,0,0,1,0,0,0], # (2,4)\n",
        "     [0,0,0,0,0,0,0,1], # (3,7)\n",
        "     [1,0,1,0,0,0,1,1], # (4,0), (4,2), (4,6), (4,7)\n",
        "     [0,1,0,0,0,0,1,1], # ...\n",
        "     [0,1,0,0,1,1,0,0],\n",
        "     [0,0,0,1,1,1,0,0]]"
      ],
      "execution_count": 0,
      "outputs": []
    },
    {
      "cell_type": "code",
      "metadata": {
        "id": "iNhBaKZ0LVDt",
        "colab_type": "code",
        "outputId": "681c8a0c-dcd5-4d0f-966b-7786826cf64d",
        "colab": {
          "base_uri": "https://localhost:8080/",
          "height": 34
        }
      },
      "source": [
        "path=bfs(G, 4)\n",
        "print(path)"
      ],
      "execution_count": 0,
      "outputs": [
        {
          "output_type": "stream",
          "text": [
            "[4, 6, 4, 7, None, 6, 4, 4]\n"
          ],
          "name": "stdout"
        }
      ]
    },
    {
      "cell_type": "markdown",
      "metadata": {
        "id": "jtv1z4Ir1tkH",
        "colab_type": "text"
      },
      "source": [
        "##BFS con Lista, ya no con matriz"
      ]
    },
    {
      "cell_type": "code",
      "metadata": {
        "id": "g1G5baS01q0i",
        "colab_type": "code",
        "colab": {}
      },
      "source": [
        "def bfsAdjList(G, s):\n",
        "  n = len(G)\n",
        "  visited = [False]*n\n",
        "  parent = [None]*n\n",
        "  queue = [s]\n",
        "  visited[s] = True\n",
        "  while len(queue) >0 :\n",
        "    u = queue[0]\n",
        "    queue = queue[1:]\n",
        "    for v in G[u]:\n",
        "      if not visited[v]:\n",
        "        parent[v] = u\n",
        "        visited[v] = True\n",
        "        queue.append(v)\n",
        "\n",
        "  return parent"
      ],
      "execution_count": 0,
      "outputs": []
    },
    {
      "cell_type": "code",
      "metadata": {
        "id": "ZNL8L0Ei2tm4",
        "colab_type": "code",
        "colab": {}
      },
      "source": [
        "G = [[4],\n",
        "     [5,6],\n",
        "     [4],\n",
        "     [7],\n",
        "     [0,2,6,7],\n",
        "     [1,6,7],\n",
        "     [1,4,5],\n",
        "     [3,4,5]]"
      ],
      "execution_count": 0,
      "outputs": []
    },
    {
      "cell_type": "code",
      "metadata": {
        "id": "8EfydVZk41jw",
        "colab_type": "code",
        "outputId": "06d8f623-ee68-4caf-f3bc-29ffdf557b0d",
        "colab": {
          "base_uri": "https://localhost:8080/",
          "height": 34
        }
      },
      "source": [
        "path = bfsAdjList(G,4)\n",
        "print(path)"
      ],
      "execution_count": 0,
      "outputs": [
        {
          "output_type": "stream",
          "text": [
            "[4, 6, 4, 7, None, 6, 4, 4]\n"
          ],
          "name": "stdout"
        }
      ]
    }
  ]
}