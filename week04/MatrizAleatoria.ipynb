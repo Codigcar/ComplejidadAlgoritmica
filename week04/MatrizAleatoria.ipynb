{
  "nbformat": 4,
  "nbformat_minor": 0,
  "metadata": {
    "colab": {
      "name": "MatrizAleatoria.ipynb",
      "provenance": [],
      "authorship_tag": "ABX9TyMcQg6Ar1rjiHhY2Y2vbk1q",
      "include_colab_link": true
    },
    "kernelspec": {
      "name": "python3",
      "display_name": "Python 3"
    }
  },
  "cells": [
    {
      "cell_type": "markdown",
      "metadata": {
        "id": "view-in-github",
        "colab_type": "text"
      },
      "source": [
        "<a href=\"https://colab.research.google.com/github/Codigcar/ComplejidadAlgoritmica/blob/master/week04/MatrizAleatoria.ipynb\" target=\"_parent\"><img src=\"https://colab.research.google.com/assets/colab-badge.svg\" alt=\"Open In Colab\"/></a>"
      ]
    },
    {
      "cell_type": "code",
      "metadata": {
        "id": "-0TvK7PBI_QL",
        "colab_type": "code",
        "outputId": "b3e074e9-030a-45a3-d774-51a5eae84b09",
        "colab": {
          "base_uri": "https://localhost:8080/",
          "height": 102
        }
      },
      "source": [
        "import random\n",
        "n = 5\n",
        "\n",
        "\n",
        "#creando tabla llenos de 0\n",
        "tabla=[[0 for i in range(n)] for i in range(n)]\n",
        "\n",
        "def imprimirMatriz(tabla):\n",
        "    for i in range(n):\n",
        "        print(tabla[i])\n",
        "\n",
        "#generando matriz de adyacencia con valores aleatorios\n",
        "def cargaMatriz(tabla):\n",
        "    for i in range(n):\n",
        "        for j in range(n):\n",
        "            tabla[i][j] = random.randrange(0,2)\n",
        "           \n",
        "\n",
        "cargaMatriz(tabla)\n",
        "imprimirMatriz(tabla)"
      ],
      "execution_count": 0,
      "outputs": [
        {
          "output_type": "stream",
          "text": [
            "[0, 0, 1, 1, 1]\n",
            "[1, 1, 1, 0, 1]\n",
            "[1, 1, 1, 1, 0]\n",
            "[0, 1, 1, 0, 0]\n",
            "[1, 0, 0, 0, 1]\n"
          ],
          "name": "stdout"
        }
      ]
    },
    {
      "cell_type": "code",
      "metadata": {
        "id": "hzwG_LH6OyQR",
        "colab_type": "code",
        "colab": {}
      },
      "source": [
        "#diccionario de datos\n",
        "diccionario = {'a':10,'b':20,'c':80}      #{id:valor}\n"
      ],
      "execution_count": 0,
      "outputs": []
    },
    {
      "cell_type": "code",
      "metadata": {
        "id": "0M7h8EqXOfWP",
        "colab_type": "code",
        "outputId": "f1d4a0b6-88da-4d46-f320-e6b6bafa0edd",
        "colab": {
          "base_uri": "https://localhost:8080/",
          "height": 272
        }
      },
      "source": [
        "import random\n",
        "\n",
        "def frecuencia(oracion):\n",
        "    diccionario={}\n",
        "    for c in oracion:\n",
        "        if c not in diccionario:\n",
        "            diccionario[c]=1\n",
        "        else:\n",
        "            diccionario[c]+=1\n",
        "    return diccionario\n",
        "\n",
        "a=\"Universidad Peruana de ciencias\"\n",
        "print(a)\n",
        "d=frecuencia(a)\n",
        "print(d)\n",
        "{'U': 1, 'n': 1, 'i': 1, 'v': 1, 'e': 1, 'r': 1, 's': 1, 'd': 1, 'a': 1, ' ': 1, 'P': 1, 'u': 1, 'c': 1}\n",
        "      "
      ],
      "execution_count": 0,
      "outputs": [
        {
          "output_type": "stream",
          "text": [
            "Universidad Peruana de ciencias\n",
            "{'U': 1, 'n': 3, 'i': 4, 'v': 1, 'e': 4, 'r': 2, 's': 2, 'd': 3, 'a': 4, ' ': 3, 'P': 1, 'u': 1, 'c': 2}\n"
          ],
          "name": "stdout"
        },
        {
          "output_type": "execute_result",
          "data": {
            "text/plain": [
              "{' ': 1,\n",
              " 'P': 1,\n",
              " 'U': 1,\n",
              " 'a': 1,\n",
              " 'c': 1,\n",
              " 'd': 1,\n",
              " 'e': 1,\n",
              " 'i': 1,\n",
              " 'n': 1,\n",
              " 'r': 1,\n",
              " 's': 1,\n",
              " 'u': 1,\n",
              " 'v': 1}"
            ]
          },
          "metadata": {
            "tags": []
          },
          "execution_count": 15
        }
      ]
    },
    {
      "cell_type": "code",
      "metadata": {
        "id": "wNyfJbKnKJ7E",
        "colab_type": "code",
        "outputId": "76667676-8835-4fc4-9a98-2d4931a6ffff",
        "colab": {
          "base_uri": "https://localhost:8080/",
          "height": 340
        }
      },
      "source": [
        "#LISTA DE ADYACENCIA, IMPLEMENTACIÓN MEDIANTE PYTHON\n",
        "G= { \n",
        "1 : [(2 ,50) , (3 ,30) , (4 ,100) , (5 ,10)],\n",
        "3 : [(2 ,5)],\n",
        "4 : [(2 ,20) , (3 ,50) ],\n",
        "5 : [(4 ,10)] \n",
        "}  \n",
        "#IMPRIMIENDO Key con su Lista\n",
        "for key,lista in G.items():\n",
        "    print(key,lista)\n",
        "\n",
        "print(\"-----------\")\n",
        "#IPRIMIENDO solo valores\n",
        "for i in G:\n",
        "    print(G[i])\n",
        "    \n",
        "print(\"-----------\")\n",
        "\n",
        "print(\"origine destino y valor\")\n",
        "#Imprimiento aritas\n",
        "for elemento in G:\n",
        "    for j,c in G[elemento]:\n",
        "        print(i,j,c)"
      ],
      "execution_count": 0,
      "outputs": [
        {
          "output_type": "stream",
          "text": [
            "1 [(2, 50), (3, 30), (4, 100), (5, 10)]\n",
            "3 [(2, 5)]\n",
            "4 [(2, 20), (3, 50)]\n",
            "5 [(4, 10)]\n",
            "-----------\n",
            "[(2, 50), (3, 30), (4, 100), (5, 10)]\n",
            "[(2, 5)]\n",
            "[(2, 20), (3, 50)]\n",
            "[(4, 10)]\n",
            "-----------\n",
            "origine destino y valor\n",
            "5 2 50\n",
            "5 3 30\n",
            "5 4 100\n",
            "5 5 10\n",
            "5 2 5\n",
            "5 2 20\n",
            "5 3 50\n",
            "5 4 10\n"
          ],
          "name": "stdout"
        }
      ]
    },
    {
      "cell_type": "code",
      "metadata": {
        "id": "gNznSqZNSOcW",
        "colab_type": "code",
        "colab": {}
      },
      "source": [
        ""
      ],
      "execution_count": 0,
      "outputs": []
    }
  ]
}