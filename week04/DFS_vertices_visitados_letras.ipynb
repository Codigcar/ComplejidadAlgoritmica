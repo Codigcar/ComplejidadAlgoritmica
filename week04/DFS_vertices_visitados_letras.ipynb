{
  "nbformat": 4,
  "nbformat_minor": 0,
  "metadata": {
    "colab": {
      "name": "DFS_vertices_visitados_letras.ipynb",
      "provenance": [],
      "authorship_tag": "ABX9TyOtsv4ie6hO2iQpKVnDVCtV",
      "include_colab_link": true
    },
    "kernelspec": {
      "name": "python3",
      "display_name": "Python 3"
    }
  },
  "cells": [
    {
      "cell_type": "markdown",
      "metadata": {
        "id": "view-in-github",
        "colab_type": "text"
      },
      "source": [
        "<a href=\"https://colab.research.google.com/github/Codigcar/ComplejidadAlgoritmica/blob/master/week04/DFS_vertices_visitados_letras.ipynb\" target=\"_parent\"><img src=\"https://colab.research.google.com/assets/colab-badge.svg\" alt=\"Open In Colab\"/></a>"
      ]
    },
    {
      "cell_type": "code",
      "metadata": {
        "id": "pNeviJ23mwFs",
        "colab_type": "code",
        "colab": {
          "base_uri": "https://localhost:8080/",
          "height": 68
        },
        "outputId": "313bd64d-d951-4138-8d4e-c0534cdc0602"
      },
      "source": [
        "def dfs(G, s):\n",
        "    n = len(G)\n",
        "    llega = [None]*n\n",
        "    visitados = [False]*n\n",
        "    pila = [s]\n",
        "    juntar=[]\n",
        "    while len(pila) > 0:\n",
        "        u = pila.pop() #quitamos elemento de la pila\n",
        "        if visitados[u]: continue\n",
        "        visitados[u] = True\n",
        "        juntar.append(u) #juntar vértices visitados\n",
        "        for v in reversed(G[u]):#recorrer los vecinos de u en el vector G[u] invertido\n",
        "            if not visitados[v]:\n",
        "                pila.append(v)\n",
        "                #llega[v] = u  #a v se llega de u\n",
        "    #return llega\n",
        "    return juntar\n",
        "\n",
        "G = [\n",
        "[1, 2, 3, 5],\n",
        "[0,2],\n",
        "[0, 1, 3, 4],\n",
        "[0, 2, 4, 5, 6],\n",
        "[2, 3, 6],\n",
        "[0, 3, 6],\n",
        "[3,4, 5]\n",
        "]\n",
        "\n",
        "vertices=['A', 'B','C','D','E','F','G']\n",
        "#vertices=[0,   1,  2,  3,  4,  5,  6]\n",
        "inicio=0 #inicio de recorrido osea 'A'\n",
        "juntar=dfs(G, inicio) #regresa el vector de vertices visitados\n",
        "print('\\nVertices visitados: ',juntar)\n",
        "for j in juntar:\n",
        "  print(vertices[j],end=' ')"
      ],
      "execution_count": 1,
      "outputs": [
        {
          "output_type": "stream",
          "text": [
            "\n",
            "Vertices visitados:  [0, 1, 2, 3, 4, 6, 5]\n",
            "A B C D E G F "
          ],
          "name": "stdout"
        }
      ]
    }
  ]
}