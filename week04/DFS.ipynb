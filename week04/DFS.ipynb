{
  "nbformat": 4,
  "nbformat_minor": 0,
  "metadata": {
    "colab": {
      "name": "DFS.ipynb",
      "provenance": [],
      "authorship_tag": "ABX9TyOAD8C8E/g3IMzKdzm0ZMSs",
      "include_colab_link": true
    },
    "kernelspec": {
      "name": "python3",
      "display_name": "Python 3"
    }
  },
  "cells": [
    {
      "cell_type": "markdown",
      "metadata": {
        "id": "view-in-github",
        "colab_type": "text"
      },
      "source": [
        "<a href=\"https://colab.research.google.com/github/Codigcar/ComplejidadAlgoritmica/blob/master/week04/DFS.ipynb\" target=\"_parent\"><img src=\"https://colab.research.google.com/assets/colab-badge.svg\" alt=\"Open In Colab\"/></a>"
      ]
    },
    {
      "cell_type": "markdown",
      "metadata": {
        "id": "BK3qE51gHoXm",
        "colab_type": "text"
      },
      "source": [
        "##Depth First Search (DFS)"
      ]
    },
    {
      "cell_type": "markdown",
      "metadata": {
        "id": "tn3_ZYoWHzJy",
        "colab_type": "text"
      },
      "source": [
        "Implementacion recursiva"
      ]
    },
    {
      "cell_type": "code",
      "metadata": {
        "id": "-o_ujAABHm-I",
        "colab_type": "code",
        "colab": {}
      },
      "source": [
        "\n",
        "def dfsRecursive(G, s):\n",
        "    n = len(G)\n",
        "    visited = [False]*n\n",
        "    path = [None]*n\n",
        "    \n",
        "    def dfs1(u):\n",
        "        if not visited[u]:\n",
        "            visited[u] = True\n",
        "            for v in G[u]:\n",
        "                if not visited[v]:\n",
        "                    path[v] = u\n",
        "                    dfs1(v)\n",
        "\n",
        "    dfs1(s)\n",
        "    return path"
      ],
      "execution_count": 0,
      "outputs": []
    },
    {
      "cell_type": "markdown",
      "metadata": {
        "id": "PxYqRmgiIPpC",
        "colab_type": "text"
      },
      "source": [
        "Implementacion repetitiva"
      ]
    },
    {
      "cell_type": "code",
      "metadata": {
        "id": "38-9ym4NIRvC",
        "colab_type": "code",
        "colab": {}
      },
      "source": [
        "def dfsRep(G, s):\n",
        "    n = len(G)\n",
        "    visited = [False]*n\n",
        "    path = [None]*n\n",
        "    stack = [s]\n",
        "    while len(stack) > 0:\n",
        "        u = stack.pop()\n",
        "        if not visited[u]:\n",
        "            visited[u] = True\n",
        "            for v in reversed(G[u]):\n",
        "                if not visited[v]:\n",
        "                    path[v] = u\n",
        "                    stack.append(v)\n",
        "\n",
        "    return path"
      ],
      "execution_count": 0,
      "outputs": []
    },
    {
      "cell_type": "code",
      "metadata": {
        "id": "AHiwaR7lJtWK",
        "colab_type": "code",
        "colab": {}
      },
      "source": [
        "\n",
        "G = [[4],                  # (0, 4)\n",
        "     [5, 6],               # (1, 5), (1, 6)\n",
        "     [4],                  # (2, 4)\n",
        "     [7],                  # (3, 7)\n",
        "     [0, 2, 6, 7],         # (4, 0), (4, 2), (4, 6), (4, 7)\n",
        "     [1, 6, 7],            # (5, 1), (5, 6), (5, 7)\n",
        "     [1, 4, 5],\n",
        "     [3, 4, 5]] "
      ],
      "execution_count": 0,
      "outputs": []
    },
    {
      "cell_type": "code",
      "metadata": {
        "id": "UVyAIOXCJvQ2",
        "colab_type": "code",
        "outputId": "332b3acb-da48-4f6d-b894-74caa4f8e64b",
        "colab": {
          "base_uri": "https://localhost:8080/",
          "height": 52
        }
      },
      "source": [
        "path1 = dfsRecursive(G, 4)\n",
        "path2 = dfsRep(G, 4)\n",
        "print(path1)\n",
        "print(path2)"
      ],
      "execution_count": 0,
      "outputs": [
        {
          "output_type": "stream",
          "text": [
            "[4, 6, 4, 7, None, 1, 4, 5]\n",
            "[4, 6, 4, 7, None, 1, 4, 5]\n"
          ],
          "name": "stdout"
        }
      ]
    },
    {
      "cell_type": "code",
      "metadata": {
        "id": "siRq3yROI2eJ",
        "colab_type": "code",
        "colab": {}
      },
      "source": [
        ""
      ],
      "execution_count": 0,
      "outputs": []
    }
  ]
}