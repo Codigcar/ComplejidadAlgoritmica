{
  "nbformat": 4,
  "nbformat_minor": 0,
  "metadata": {
    "colab": {
      "name": "04ejercicios.ipynb",
      "provenance": [],
      "authorship_tag": "ABX9TyNxKtIMLybPOwGsBPg4F77K",
      "include_colab_link": true
    },
    "kernelspec": {
      "name": "python3",
      "display_name": "Python 3"
    }
  },
  "cells": [
    {
      "cell_type": "markdown",
      "metadata": {
        "id": "view-in-github",
        "colab_type": "text"
      },
      "source": [
        "<a href=\"https://colab.research.google.com/github/Codigcar/ComplejidadAlgoritmica/blob/master/week04/04ejercicios.ipynb\" target=\"_parent\"><img src=\"https://colab.research.google.com/assets/colab-badge.svg\" alt=\"Open In Colab\"/></a>"
      ]
    },
    {
      "cell_type": "markdown",
      "metadata": {
        "id": "ugeJu8C78V3z",
        "colab_type": "text"
      },
      "source": [
        "##Ejercicio 1 : Creacion de un grafo aleatorio G de n vértices y m aristas\n",
        "\n",
        "*   Escriba un algoritmo que genere una matriz aleatoria de adyacencia para G\n",
        "\n",
        "\n",
        "\n"
      ]
    },
    {
      "cell_type": "code",
      "metadata": {
        "id": "KJZBqWeh8So8",
        "colab_type": "code",
        "colab": {}
      },
      "source": [
        "import random as rnd\n",
        "\n",
        "def randAdjMatriz(n,m):\n",
        "  G = [[0]*n for _ in range(n)]\n",
        "\n",
        "  cont = 0\n",
        "  while cont < m:\n",
        "    i = rnd.randint(0, n-1)\n",
        "    j = rnd.randint(0, n-1)\n",
        "    if G[i][j] == 0 and G[j][i] == 0 and i != j:\n",
        "      G[i][j] = 1\n",
        "      cont += 1\n",
        "\n",
        "  return G"
      ],
      "execution_count": 0,
      "outputs": []
    },
    {
      "cell_type": "code",
      "metadata": {
        "id": "hAUfqMSb8_2S",
        "colab_type": "code",
        "outputId": "9b31c150-a37f-43d1-f003-b1a6ab3189d9",
        "colab": {
          "base_uri": "https://localhost:8080/",
          "height": 34
        }
      },
      "source": [
        "G = randAdjMatriz(5,6)\n",
        "print(G)"
      ],
      "execution_count": 0,
      "outputs": [
        {
          "output_type": "stream",
          "text": [
            "[[0, 0, 1, 1, 0], [1, 0, 0, 1, 0], [0, 0, 0, 0, 0], [0, 0, 0, 0, 0], [1, 0, 0, 1, 0]]\n"
          ],
          "name": "stdout"
        }
      ]
    },
    {
      "cell_type": "code",
      "metadata": {
        "id": "KbNDS9kR-O5U",
        "colab_type": "code",
        "colab": {}
      },
      "source": [
        "#para imprimir la matriz correctamente\n",
        "def printG(G):\n",
        "  for i in G:\n",
        "    print(i)"
      ],
      "execution_count": 0,
      "outputs": []
    },
    {
      "cell_type": "code",
      "metadata": {
        "id": "BfrlFUH4-V_c",
        "colab_type": "code",
        "outputId": "7e36985b-8f22-4107-a7d4-f91bb2e3544b",
        "colab": {
          "base_uri": "https://localhost:8080/",
          "height": 105
        }
      },
      "source": [
        "printG(G)"
      ],
      "execution_count": 0,
      "outputs": [
        {
          "output_type": "stream",
          "text": [
            "[0, 0, 1, 1, 0]\n",
            "[1, 0, 0, 1, 0]\n",
            "[0, 0, 0, 0, 0]\n",
            "[0, 0, 0, 0, 0]\n",
            "[1, 0, 0, 1, 0]\n"
          ],
          "name": "stdout"
        }
      ]
    },
    {
      "cell_type": "markdown",
      "metadata": {
        "id": "D9fkFO9gClEI",
        "colab_type": "text"
      },
      "source": [
        "\n",
        "\n",
        "*   Escriba un algoritmo que genere una lista aleatoria de adyacencia para G\n",
        "\n"
      ]
    },
    {
      "cell_type": "code",
      "metadata": {
        "id": "r4aYXIyuCuUX",
        "colab_type": "code",
        "colab": {}
      },
      "source": [
        "def randAdjList(n,m):\n",
        "  G = [[] for _ in range(n)]\n",
        "\n",
        "  cont = 0\n",
        "  while cont < m:\n",
        "    i = rnd.randint(0, n-1)\n",
        "    j = rnd.randint(0, n-1)\n",
        "    if not(j in G[i] or i in G[j] or i == j ):\n",
        "      G[i].append(j)\n",
        "      cont += 1\n",
        "\n",
        "  return G"
      ],
      "execution_count": 0,
      "outputs": []
    },
    {
      "cell_type": "code",
      "metadata": {
        "id": "Myvwm9CCDFq2",
        "colab_type": "code",
        "outputId": "8cb492fd-3bd2-46b3-da11-73daa64771a5",
        "colab": {
          "base_uri": "https://localhost:8080/",
          "height": 123
        }
      },
      "source": [
        "G = randAdjList(6,8)\n",
        "printG(G)"
      ],
      "execution_count": 0,
      "outputs": [
        {
          "output_type": "stream",
          "text": [
            "[2, 5]\n",
            "[0, 2]\n",
            "[3, 4]\n",
            "[]\n",
            "[3, 1]\n",
            "[]\n"
          ],
          "name": "stdout"
        }
      ]
    },
    {
      "cell_type": "markdown",
      "metadata": {
        "id": "6cFgssMvDgwO",
        "colab_type": "text"
      },
      "source": [
        "[]  ->     no arcos parten de vertice 0\n",
        "[2,0] ->   arcos: (1->2), (1->0)\n",
        "[4,5,3] -> arcos: (2->4), (2->5), (2->3)\n",
        "[4] ->     arcos: (3->4)\n",
        "[1] ->     arcos (4->1)\n",
        "[4] ->     arcos (5->4)"
      ]
    }
  ]
}