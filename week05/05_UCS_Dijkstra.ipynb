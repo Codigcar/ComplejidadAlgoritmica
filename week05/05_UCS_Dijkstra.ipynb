{
  "nbformat": 4,
  "nbformat_minor": 0,
  "metadata": {
    "colab": {
      "name": "05-UCS-Dijkstra.ipynb",
      "provenance": [],
      "authorship_tag": "ABX9TyPlT7sCHU/7Abrzk4vjlppK",
      "include_colab_link": true
    },
    "kernelspec": {
      "name": "python3",
      "display_name": "Python 3"
    }
  },
  "cells": [
    {
      "cell_type": "markdown",
      "metadata": {
        "id": "view-in-github",
        "colab_type": "text"
      },
      "source": [
        "<a href=\"https://colab.research.google.com/github/Codigcar/ComplejidadAlgoritmica/blob/master/week05/05_UCS_Dijkstra.ipynb\" target=\"_parent\"><img src=\"https://colab.research.google.com/assets/colab-badge.svg\" alt=\"Open In Colab\"/></a>"
      ]
    },
    {
      "cell_type": "code",
      "metadata": {
        "id": "m9IGL-uZhPEO",
        "colab_type": "code",
        "colab": {}
      },
      "source": [
        "from heapq import heappush, heappop\n",
        "import math"
      ],
      "execution_count": 0,
      "outputs": []
    },
    {
      "cell_type": "code",
      "metadata": {
        "id": "bww6CZOchxGE",
        "colab_type": "code",
        "colab": {}
      },
      "source": [
        "def dijkstra(G, s): # o UCS\n",
        "    n = len(G)\n",
        "    visited = [False]*n\n",
        "    path = [None]*n\n",
        "    cost = [math.inf]*n\n",
        "    queue = []\n",
        "    heappush(queue, (0, s))\n",
        "    cost[s] = 0\n",
        "\n",
        "    while len(queue) > 0:\n",
        "        g, u = heappop(queue)\n",
        "        visited[u]\n",
        "        for v, w in G[u]:\n",
        "            if not visited[v]:\n",
        "                f = g + w\n",
        "                if f < cost[v]:\n",
        "                    cost[v] = f\n",
        "                    path[v] = u\n",
        "                    heappush(queue, (f, v))\n",
        "\n",
        "    return path, cost"
      ],
      "execution_count": 0,
      "outputs": []
    },
    {
      "cell_type": "code",
      "metadata": {
        "id": "RVQZco2AjSua",
        "colab_type": "code",
        "colab": {}
      },
      "source": [
        "G = [[(2, 5), (3, 2)], # (0, 2, w=5), (0, 3, w=2)\n",
        "     [(0, 1), (2, 3)],\n",
        "     [(4, 1)],\n",
        "     [(4, 2)],\n",
        "     [(1, 10)],]"
      ],
      "execution_count": 0,
      "outputs": []
    },
    {
      "cell_type": "code",
      "metadata": {
        "id": "glCXzKPOjvJQ",
        "colab_type": "code",
        "outputId": "874735fe-5379-4d42-9fdd-13bbb6eaa96c",
        "colab": {
          "base_uri": "https://localhost:8080/",
          "height": 34
        }
      },
      "source": [
        "print(dijkstra(G, 0))"
      ],
      "execution_count": 0,
      "outputs": [
        {
          "output_type": "stream",
          "text": [
            "([None, 4, 0, 0, 3], [0, 14, 5, 2, 4])\n"
          ],
          "name": "stdout"
        }
      ]
    },
    {
      "cell_type": "code",
      "metadata": {
        "id": "o8nTGY_3hYme",
        "colab_type": "code",
        "outputId": "3c51381b-9cc6-4683-bf22-a7c4b0fcb721",
        "colab": {
          "base_uri": "https://localhost:8080/",
          "height": 141
        }
      },
      "source": [
        "q = []\n",
        "heappush(q, (5, 'asd'))\n",
        "heappush(q, (9, 'asd'))\n",
        "heappush(q, (2, 'asd'))\n",
        "heappush(q, (7, 'asd'))\n",
        "heappush(q, (3, 'asd'))\n",
        "heappush(q, (8, 'asd'))\n",
        "print(q)\n",
        "while len(q) > 0:\n",
        "  print ( heappop(q))"
      ],
      "execution_count": 0,
      "outputs": [
        {
          "output_type": "stream",
          "text": [
            "[(2, 'asd'), (3, 'asd'), (5, 'asd'), (9, 'asd'), (7, 'asd'), (8, 'asd')]\n",
            "(2, 'asd')\n",
            "(3, 'asd')\n",
            "(5, 'asd')\n",
            "(7, 'asd')\n",
            "(8, 'asd')\n",
            "(9, 'asd')\n"
          ],
          "name": "stdout"
        }
      ]
    }
  ]
}