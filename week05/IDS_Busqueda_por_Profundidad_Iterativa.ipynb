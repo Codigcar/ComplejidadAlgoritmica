{
  "nbformat": 4,
  "nbformat_minor": 0,
  "metadata": {
    "colab": {
      "name": "IDS Busqueda por Profundidad Iterativa.ipynb",
      "provenance": [],
      "authorship_tag": "ABX9TyPv63vFBMirrxI87QhBRSUn",
      "include_colab_link": true
    },
    "kernelspec": {
      "name": "python3",
      "display_name": "Python 3"
    }
  },
  "cells": [
    {
      "cell_type": "markdown",
      "metadata": {
        "id": "view-in-github",
        "colab_type": "text"
      },
      "source": [
        "<a href=\"https://colab.research.google.com/github/Codigcar/ComplejidadAlgoritmica/blob/master/week05/IDS_Busqueda_por_Profundidad_Iterativa.ipynb\" target=\"_parent\"><img src=\"https://colab.research.google.com/assets/colab-badge.svg\" alt=\"Open In Colab\"/></a>"
      ]
    },
    {
      "cell_type": "code",
      "metadata": {
        "id": "5P7zFyX_KHTs",
        "colab_type": "code",
        "colab": {}
      },
      "source": [
        "import heapq as hq\n",
        "import math\n",
        "def dls(G, s, t, limit):\n",
        "    n = len(G)\n",
        "    path = [None]*n\n",
        "    visited = [False]*n\n",
        "    def dfs(G, u, limit):\n",
        "        if limit == 0 or u == t and not visited[u]:\n",
        "            visited[u] = True\n",
        "            return\n",
        "        if not visited[u]:\n",
        "            visited[u] = True\n",
        "            for v,w in G[u]:\n",
        "                if not visited[v]:\n",
        "                    path[v] = u\n",
        "                    dfs(G, v, limit - 1)\n",
        "                \n",
        "    dfs(G, s, limit)\n",
        "    return path, visited[t]\n",
        "\n",
        "def ids(G, s, t):\n",
        "    limit = 0\n",
        "    while True:\n",
        "        path, found = dls(G, s, t, limit)\n",
        "        if found:\n",
        "            return path, limit\n",
        "        limit += 1"
      ],
      "execution_count": 0,
      "outputs": []
    },
    {
      "cell_type": "code",
      "metadata": {
        "id": "gmj6xabDQRvI",
        "colab_type": "code",
        "colab": {}
      },
      "source": [
        "\n",
        "G = [\n",
        "     [(3, 10), (4, 1)],\n",
        "     [(3, 5), (4, 5)],\n",
        "     [(3, 4), (4, 15)],\n",
        "     [(0, 10), (1, 5), (2, 4)],\n",
        "     [(0, 1), (1, 5), (2, 15)]]"
      ],
      "execution_count": 0,
      "outputs": []
    },
    {
      "cell_type": "code",
      "metadata": {
        "id": "FkxR7FFRQTke",
        "colab_type": "code",
        "colab": {
          "base_uri": "https://localhost:8080/",
          "height": 68
        },
        "outputId": "61979fac-389d-489b-96c5-3f82b73b0766"
      },
      "source": [
        "ruta, pesos = ids(G, 4, 3) # ruta de S --->G\n",
        "print()\n",
        "print(ruta)\n",
        "print()\n",
        "names = ['A', 'B', 'C', 'G', 'S'] \n",
        "#vertice = ['0', '1', '2', '3', '4'] "
      ],
      "execution_count": 5,
      "outputs": [
        {
          "output_type": "stream",
          "text": [
            "\n",
            "[4, 4, 4, 0, None]\n",
            "\n"
          ],
          "name": "stdout"
        }
      ]
    },
    {
      "cell_type": "code",
      "metadata": {
        "id": "vQ-ugrXcQVkn",
        "colab_type": "code",
        "colab": {
          "base_uri": "https://localhost:8080/",
          "height": 68
        },
        "outputId": "da2b7521-ea7d-4f89-c3cb-fcf478f0f0f1"
      },
      "source": [
        "\n",
        "#imprimiendo la ruta\n",
        "last = 3\n",
        "while last != None:\n",
        "    print(names[last], last)\n",
        "    last = ruta[last]"
      ],
      "execution_count": 6,
      "outputs": [
        {
          "output_type": "stream",
          "text": [
            "G 3\n",
            "A 0\n",
            "S 4\n"
          ],
          "name": "stdout"
        }
      ]
    }
  ]
}