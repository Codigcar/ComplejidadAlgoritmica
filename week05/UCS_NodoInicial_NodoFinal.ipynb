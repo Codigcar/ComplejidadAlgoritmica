{
  "nbformat": 4,
  "nbformat_minor": 0,
  "metadata": {
    "colab": {
      "name": "UCS-V2.ipynb",
      "provenance": [],
      "collapsed_sections": [],
      "authorship_tag": "ABX9TyNex864R9nR67ls7gVSu71R",
      "include_colab_link": true
    },
    "kernelspec": {
      "name": "python3",
      "display_name": "Python 3"
    }
  },
  "cells": [
    {
      "cell_type": "markdown",
      "metadata": {
        "id": "view-in-github",
        "colab_type": "text"
      },
      "source": [
        "<a href=\"https://colab.research.google.com/github/Codigcar/ComplejidadAlgoritmica/blob/master/week05/UCS_V2.ipynb\" target=\"_parent\"><img src=\"https://colab.research.google.com/assets/colab-badge.svg\" alt=\"Open In Colab\"/></a>"
      ]
    },
    {
      "cell_type": "code",
      "metadata": {
        "id": "HvhFUyqz4PL7",
        "colab_type": "code",
        "colab": {}
      },
      "source": [
        "import heapq as hq\n",
        "import math\n",
        "\n",
        "def BusquedaXCostoUniforme(G , s, t): #s es vertice inicio y t es meta\n",
        "    n = len(G)\n",
        "    visitados = [False]*n\n",
        "    pesos = [math.inf]*n\n",
        "    ruta = [None]*n\n",
        "    cola = []                 # es una cola de prioridad (g, vertice)\n",
        "    hq.heappush(cola, (0, s)) # agregando el primer (peso-acumulado,vertice) a la cola\n",
        "    pesos[s] = 0              # los indices del vector pesos son los vertices\n",
        "\n",
        "    while len(cola) > 0:\n",
        "        g, u = hq.heappop(cola) #tomamos el 'u' de mayor prioridad ###Donde 'u' = vertice\n",
        "      # g,u = (0,s) -> g = 0 ; u = vertice\n",
        "        print(g)\n",
        "        if visitados[u]:\n",
        "          continue\n",
        "        if u == t:    #si 'u' es la meta rompemos\n",
        "          break\n",
        "        visitados[u] = True   #ponemos 'u' al vector de visitados y vamos al siguiente\n",
        "                              #metemos a la cola de prioridad a los vecinos\n",
        "\n",
        "        #Expandimos y signamos los 'f' a cada nodo, a la vuelta este f será g\n",
        "        for v,w in G[u]:    #recorremos en el grafo a  todos los vecinos de la u\n",
        "            if not visitados[v]:  #si 'v' no ha sido visitado\n",
        "                f = g + w   #w es el peso actual, g es el acumulado previo, f es el acumulado total\n",
        "                if f < pesos[v]:\n",
        "                    pesos[v] = f\n",
        "                    ruta[v] = u\n",
        "                    hq.heappush(cola, (f,v))  #encolamos\n",
        "        #v=vertice\n",
        "        #w=peso   \n",
        "            \n",
        "    return ruta,pesos\n",
        "\n",
        "\n",
        "\n"
      ],
      "execution_count": 0,
      "outputs": []
    },
    {
      "cell_type": "code",
      "metadata": {
        "id": "V6v1CeVM8O3y",
        "colab_type": "code",
        "colab": {}
      },
      "source": [
        " #(vertice,peso)\n",
        "G =[\n",
        "    [(3,10),(4,1),(2,1)],  #0\n",
        "    [(3,5),(4,5)],    #1\n",
        "    [(3,4),(4,15)],   #2\n",
        "    [(0,10),(1,5),(2,4)],   #3 \n",
        "    [(0,1),(1,5),(2,15)]    #4\n",
        "    ]"
      ],
      "execution_count": 0,
      "outputs": []
    },
    {
      "cell_type": "code",
      "metadata": {
        "id": "HNHelr3wCfai",
        "colab_type": "code",
        "outputId": "6166277a-4895-462c-a0fb-751aeb044bb2",
        "colab": {
          "base_uri": "https://localhost:8080/",
          "height": 102
        }
      },
      "source": [
        "ruta, pesos = BusquedaXCostoUniforme(G,4,3)\n",
        "names = ['A','B','C','G','S']\n",
        "#vertice = [0,1,2,3,4]"
      ],
      "execution_count": 0,
      "outputs": [
        {
          "output_type": "stream",
          "text": [
            "0\n",
            "1\n",
            "2\n",
            "5\n",
            "6\n"
          ],
          "name": "stdout"
        }
      ]
    },
    {
      "cell_type": "code",
      "metadata": {
        "id": "mhUwFVjdCt2F",
        "colab_type": "code",
        "outputId": "0d0f1d1d-9b35-41e9-ab6d-f2d9f8c073cf",
        "colab": {
          "base_uri": "https://localhost:8080/",
          "height": 85
        }
      },
      "source": [
        "last = 3\n",
        "while last != None:\n",
        "  print(names[last],last)\n",
        "  last = ruta[last]"
      ],
      "execution_count": 0,
      "outputs": [
        {
          "output_type": "stream",
          "text": [
            "G 3\n",
            "C 2\n",
            "A 0\n",
            "S 4\n"
          ],
          "name": "stdout"
        }
      ]
    }
  ]
}
