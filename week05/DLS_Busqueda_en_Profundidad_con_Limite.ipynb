{
  "nbformat": 4,
  "nbformat_minor": 0,
  "metadata": {
    "colab": {
      "name": "DLS Busqueda en Profundidad con Limite.ipynb",
      "provenance": [],
      "authorship_tag": "ABX9TyMH3cFENriTftYhVXmFDfzE",
      "include_colab_link": true
    },
    "kernelspec": {
      "name": "python3",
      "display_name": "Python 3"
    }
  },
  "cells": [
    {
      "cell_type": "markdown",
      "metadata": {
        "id": "view-in-github",
        "colab_type": "text"
      },
      "source": [
        "<a href=\"https://colab.research.google.com/github/Codigcar/ComplejidadAlgoritmica/blob/master/week05/DLS_Busqueda_en_Profundidad_con_Limite.ipynb\" target=\"_parent\"><img src=\"https://colab.research.google.com/assets/colab-badge.svg\" alt=\"Open In Colab\"/></a>"
      ]
    },
    {
      "cell_type": "code",
      "metadata": {
        "id": "rESgiAOEHrD2",
        "colab_type": "code",
        "colab": {}
      },
      "source": [
        "import heapq as hq\n",
        "import math\n",
        "def dls(G, s, t, limit):\n",
        "    n = len(G)\n",
        "    path = [None]*n\n",
        "    visited = [False]*n\n",
        "    def dfs(G, u, limit):\n",
        "        if limit == 0 or u == t and not visited[u]:\n",
        "            visited[u] = True\n",
        "            return\n",
        "        if not visited[u]:\n",
        "            visited[u] = True\n",
        "            for v,w in G[u]:\n",
        "                if not visited[v]:\n",
        "                    path[v] = u\n",
        "                    dfs(G, v, limit - 1)\n",
        "                \n",
        "    dfs(G, s, limit)\n",
        "    return path, visited[t]\n"
      ],
      "execution_count": 0,
      "outputs": []
    },
    {
      "cell_type": "code",
      "metadata": {
        "id": "2Z8Yc1HRM1Ia",
        "colab_type": "code",
        "colab": {}
      },
      "source": [
        "   \n",
        "G = [\n",
        "     [(3, 10), (4, 1)],\n",
        "     [(3, 5), (4, 5)],\n",
        "     [(3, 4), (4, 15)],\n",
        "     [(0, 10), (1, 5), (2, 4)],\n",
        "     [(0, 1), (1, 5), (2, 15)]]\n"
      ],
      "execution_count": 0,
      "outputs": []
    },
    {
      "cell_type": "code",
      "metadata": {
        "id": "niHofPg1M26x",
        "colab_type": "code",
        "colab": {
          "base_uri": "https://localhost:8080/",
          "height": 119
        },
        "outputId": "18b0c02a-3a4e-4a12-9bfc-172cceaba79f"
      },
      "source": [
        " \n",
        "ruta, pesos = dls(G, 4,3, 2) # ruta de S --->G\n",
        "print()\n",
        "print(ruta)\n",
        "print()\n",
        "names = ['A', 'B', 'C', 'G', 'S'] \n",
        "#vertice = ['0', '1', '2', '3', '4'] \n",
        "\n",
        "#imprimiendo la ruta\n",
        "last = 3\n",
        "while last != None:\n",
        "    print(names[last], last)\n",
        "    last = ruta[last]"
      ],
      "execution_count": 4,
      "outputs": [
        {
          "output_type": "stream",
          "text": [
            "\n",
            "[4, 4, 4, 0, None]\n",
            "\n",
            "G 3\n",
            "A 0\n",
            "S 4\n"
          ],
          "name": "stdout"
        }
      ]
    }
  ]
}