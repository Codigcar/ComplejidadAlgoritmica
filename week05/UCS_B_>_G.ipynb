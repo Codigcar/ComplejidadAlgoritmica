{
  "nbformat": 4,
  "nbformat_minor": 0,
  "metadata": {
    "colab": {
      "name": "UCS_B -> G.ipynb",
      "provenance": [],
      "authorship_tag": "ABX9TyOSRTKlwXRlVGqttCykgpO/",
      "include_colab_link": true
    },
    "kernelspec": {
      "name": "python3",
      "display_name": "Python 3"
    }
  },
  "cells": [
    {
      "cell_type": "markdown",
      "metadata": {
        "id": "view-in-github",
        "colab_type": "text"
      },
      "source": [
        "<a href=\"https://colab.research.google.com/github/Codigcar/ComplejidadAlgoritmica/blob/master/week05/UCS_B_%3E_G.ipynb\" target=\"_parent\"><img src=\"https://colab.research.google.com/assets/colab-badge.svg\" alt=\"Open In Colab\"/></a>"
      ]
    },
    {
      "cell_type": "code",
      "metadata": {
        "id": "v21giSV3p1T1",
        "colab_type": "code",
        "colab": {
          "base_uri": "https://localhost:8080/",
          "height": 204
        },
        "outputId": "7e7fd719-40a4-4c71-eab0-01864674ee6e"
      },
      "source": [
        "import heapq as hq\n",
        "import math\n",
        "def BusquedaXCostoUniforme(G, s, t): \n",
        "    n = len(G)\n",
        "    visitados = [False]*n\n",
        "    pesos  = [math.inf]*n\n",
        "    ruta    = [None]*n\n",
        "    cola   = [] \n",
        "    hq.heappush(cola, (0, s)) \n",
        "    pesos[s] = 0 \n",
        "    \n",
        "    while len(cola) > 0:\n",
        "        g, u = hq.heappop(cola) \n",
        "        if visitados[u]: \n",
        "            continue\n",
        "        if u == t: \n",
        "            break\n",
        "        visitados[u] = True \n",
        "        for v, w in G[u]: \n",
        "             if not visitados[v]: \n",
        "                f = g + w \n",
        "                if f < pesos[v]: \n",
        "                    pesos[v] = f\n",
        "                    ruta[v]   = u\n",
        "                    hq.heappush(cola, (f, v))  \n",
        "    return ruta, pesos\n",
        "#(3, 1) donde 3 es es destino y 1 es el peso\n",
        "G = [[(1, 1), (2, 2),(3, 1),(5,5)],\n",
        "     [(0, 1), (2, 1)],\n",
        "     [(1, 1), (0, 2), (3, 2),(4, 3)],\n",
        "     [(0, 1), (2, 2), (4, 2),(5, 3),(6, 4)],\n",
        "     [(2, 3), (3, 2), (6, 1)],\n",
        "     [(1, 7), (3, 1), (4, 3)],\n",
        "     [(4, 1), (3, 4), (5, 3)]\n",
        "     ]\n",
        "\n",
        "vertices=['A', 'B','C','D','E','F','G']\n",
        "#vertices=[0,   1,  2,  3,  4,  5,  6]\n",
        "inicial=1\n",
        "final=6\n",
        "ruta, pesos = BusquedaXCostoUniforme(G, inicial, final) # ruta de B --->G\n",
        "\n",
        "print('\\nVertice desde donde se llega a i: ', ruta)\n",
        "print('\\nVector de pesos: ', pesos)\n",
        "print('De',vertices[inicial], ' a ', vertices[final],' se llega con peso ',pesos[final])\n",
        "print('\\nRUTA:')\n",
        "\n",
        "#imprimiendo la ruta\n",
        "while final != None:\n",
        "    print(vertices[final], final)\n",
        "    final = ruta[final]"
      ],
      "execution_count": 2,
      "outputs": [
        {
          "output_type": "stream",
          "text": [
            "\n",
            "Vertice desde donde se llega a i:  [1, None, 1, 0, 2, 3, 4]\n",
            "\n",
            "Vector de pesos:  [1, 0, 1, 2, 4, 5, 5]\n",
            "De B  a  G  se llega con peso  5\n",
            "\n",
            "RUTA:\n",
            "G 6\n",
            "E 4\n",
            "C 2\n",
            "B 1\n"
          ],
          "name": "stdout"
        }
      ]
    }
  ]
}