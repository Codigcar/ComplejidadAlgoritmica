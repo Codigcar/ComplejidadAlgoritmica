{
  "nbformat": 4,
  "nbformat_minor": 0,
  "metadata": {
    "colab": {
      "name": "10-MST-Kruskal.ipynb",
      "provenance": [],
      "include_colab_link": true
    },
    "kernelspec": {
      "name": "python3",
      "display_name": "Python 3"
    }
  },
  "cells": [
    {
      "cell_type": "markdown",
      "metadata": {
        "id": "view-in-github",
        "colab_type": "text"
      },
      "source": [
        "<a href=\"https://colab.research.google.com/github/Codigcar/ComplejidadAlgoritmica/blob/master/week10/10_MST_Kruskal.ipynb\" target=\"_parent\"><img src=\"https://colab.research.google.com/assets/colab-badge.svg\" alt=\"Open In Colab\"/></a>"
      ]
    },
    {
      "cell_type": "markdown",
      "metadata": {
        "id": "o-cLtjEsOWH9",
        "colab_type": "text"
      },
      "source": [
        "# Minimum Expansion Tree (MST)\n",
        "\n",
        "## Kruskal\n",
        "\n",
        "### Disjoint Set with Path compression\n",
        "\n"
      ]
    },
    {
      "cell_type": "code",
      "metadata": {
        "id": "YwxP5XHAOEza",
        "colab_type": "code",
        "colab": {}
      },
      "source": [
        "class DisjointSet:\n",
        "    def __init__(self, n):\n",
        "        self.id = [-1]*n\n",
        "\n",
        "    def find(self, a):\n",
        "        if self.id[a] >= 0:\n",
        "            grandpa = self.find(self.id[a])\n",
        "            self.id[a] = grandpa\n",
        "            return grandpa\n",
        "\n",
        "        return a\n",
        "\n",
        "    def union(self, a, b):\n",
        "        parentA = self.find(a)\n",
        "        parentB = self.find(b)\n",
        "        if parentA == parentB:\n",
        "            return\n",
        "\n",
        "        if -self.id[parentA] < -self.id[parentB]:\n",
        "            self.id[parentB] += self.id[parentA]\n",
        "            self.id[parentA] = parentB\n",
        "        else:\n",
        "            self.id[parentA] += self.id[parentB]\n",
        "            self.id[parentB] = parentA"
      ],
      "execution_count": null,
      "outputs": []
    },
    {
      "cell_type": "markdown",
      "metadata": {
        "id": "eWicOccPPKHs",
        "colab_type": "text"
      },
      "source": [
        "## Kruskal"
      ]
    },
    {
      "cell_type": "code",
      "metadata": {
        "id": "n1KduLwwPD3G",
        "colab_type": "code",
        "colab": {}
      },
      "source": [
        "import heapq\n",
        "\n",
        "def kruskal(G):\n",
        "    n = len(G)                        ''' Numero de nodos del grafo G '''\n",
        "    Gprima = [[] for _ in range(n)]   ''' Crea el grafo G prima '''\n",
        "    ds = DisjointSet(n)               ''' Ayuda a determinar si existe ciclo '''\n",
        "    edges = []                        ''' Cola de prioridad, ordena los arreglos de manera ascendente '''\n",
        "    for u in range(n):\n",
        "        for v, w in G[u]:\n",
        "            heapq.heappush(edges, (w, u, v))  ''' Cada uno de los arcos se agrega a la cola de prioridad '''\n",
        "                                              ''' w: peso; peso está como primer parametro para que se ordene mediante el peso '''\n",
        "\n",
        "    numEdges = 0                          ''' Inicializa contador de arcos que se han agregadol '''\n",
        "    while numEdges < n-1:                 ''' Mientras que el numero de arcos en G prima sea menor a n-1 '''\n",
        "        w, u, v = heapq.heappop(edges)    ''' Se selecciona el arco más chiquito de la colaa de prioridad'''\n",
        "        if ds.find(u) != ds.find(v):      ''' Preguntamos si el vertice U y V de dicho arco forma un ciclo '''\n",
        "            ds.union(u, v)                ''' Unimos en el conjunto disjunto '''\n",
        "            Gprima[u].append((v, w))       ''' Y agregamos dicho arco a nuestro grafo G prima'''\n",
        "            Gprima[v].append((u, w))\n",
        "            numEdges += 1                 ''' Agregamos el numero de arco '''\n",
        "\n",
        "    return Gprima"
      ],
      "execution_count": null,
      "outputs": []
    },
    {
      "cell_type": "markdown",
      "metadata": {
        "id": "X-XCZN0dTaIl",
        "colab_type": "text"
      },
      "source": [
        "### Testing things out"
      ]
    },
    {
      "cell_type": "code",
      "metadata": {
        "id": "jn4XJLBCTEGH",
        "colab_type": "code",
        "colab": {}
      },
      "source": [
        "import graphviz as gv\n",
        "\n",
        "def drawAL(G):\n",
        "    dot = gv.Graph(comment='Nada', strict=True)\n",
        "    n = len(G)\n",
        "    for u in range(n):\n",
        "        dot.node(str(u), str(u))\n",
        "    \n",
        "    for u in range(n):\n",
        "        for v, w in G[u]:\n",
        "            dot.edge(str(u), str(v), label=str(w))\n",
        "\n",
        "    dot.graph_attr['rankdir'] = 'BT'\n",
        "    return dot"
      ],
      "execution_count": null,
      "outputs": []
    },
    {
      "cell_type": "code",
      "metadata": {
        "id": "VdVJRg1DTmmU",
        "colab_type": "code",
        "colab": {}
      },
      "source": [
        "G = [[(2, 2), (3, 9), (4, 6)],\n",
        "     [(2, 6), (5, 5)],\n",
        "     [(0, 2), (1, 6), (6, 6)],\n",
        "     [(0, 9)],\n",
        "     [(0, 6), (6, 1)],\n",
        "     [(1, 5), (6, 4), (7, 4)],\n",
        "     [(2, 6), (4, 1), (5, 4)],\n",
        "     [(5, 4)]]"
      ],
      "execution_count": null,
      "outputs": []
    },
    {
      "cell_type": "code",
      "metadata": {
        "id": "5SyZRrrQUqkc",
        "colab_type": "code",
        "colab": {
          "base_uri": "https://localhost:8080/",
          "height": 312
        },
        "outputId": "16cfc938-31a8-45a6-bc44-999297bed7a1"
      },
      "source": [
        "drawAL(G)"
      ],
      "execution_count": null,
      "outputs": [
        {
          "output_type": "execute_result",
          "data": {
            "text/plain": [
              "<graphviz.dot.Graph at 0x7fccae277c18>"
            ],
            "image/svg+xml": "<?xml version=\"1.0\" encoding=\"UTF-8\" standalone=\"no\"?>\n<!DOCTYPE svg PUBLIC \"-//W3C//DTD SVG 1.1//EN\"\n \"http://www.w3.org/Graphics/SVG/1.1/DTD/svg11.dtd\">\n<!-- Generated by graphviz version 2.40.1 (20161225.0304)\n -->\n<!-- Title: %3 Pages: 1 -->\n<svg width=\"278pt\" height=\"218pt\"\n viewBox=\"0.00 0.00 278.00 218.00\" xmlns=\"http://www.w3.org/2000/svg\" xmlns:xlink=\"http://www.w3.org/1999/xlink\">\n<g id=\"graph0\" class=\"graph\" transform=\"scale(1 1) rotate(0) translate(4 214)\">\n<title>%3</title>\n<polygon fill=\"#ffffff\" stroke=\"transparent\" points=\"-4,4 -4,-214 274,-214 274,4 -4,4\"/>\n<!-- 0 -->\n<g id=\"node1\" class=\"node\">\n<title>0</title>\n<ellipse fill=\"none\" stroke=\"#000000\" cx=\"99\" cy=\"-18\" rx=\"27\" ry=\"18\"/>\n<text text-anchor=\"middle\" x=\"99\" y=\"-14.3\" font-family=\"Times,serif\" font-size=\"14.00\" fill=\"#000000\">0</text>\n</g>\n<!-- 2 -->\n<g id=\"node3\" class=\"node\">\n<title>2</title>\n<ellipse fill=\"none\" stroke=\"#000000\" cx=\"171\" cy=\"-105\" rx=\"27\" ry=\"18\"/>\n<text text-anchor=\"middle\" x=\"171\" y=\"-101.3\" font-family=\"Times,serif\" font-size=\"14.00\" fill=\"#000000\">2</text>\n</g>\n<!-- 0&#45;&#45;2 -->\n<g id=\"edge1\" class=\"edge\">\n<title>0&#45;&#45;2</title>\n<path fill=\"none\" stroke=\"#000000\" d=\"M112.2059,-33.9571C125.197,-49.6547 144.9157,-73.4815 157.8778,-89.144\"/>\n<text text-anchor=\"middle\" x=\"143\" y=\"-57.8\" font-family=\"Times,serif\" font-size=\"14.00\" fill=\"#000000\">2</text>\n</g>\n<!-- 3 -->\n<g id=\"node4\" class=\"node\">\n<title>3</title>\n<ellipse fill=\"none\" stroke=\"#000000\" cx=\"99\" cy=\"-105\" rx=\"27\" ry=\"18\"/>\n<text text-anchor=\"middle\" x=\"99\" y=\"-101.3\" font-family=\"Times,serif\" font-size=\"14.00\" fill=\"#000000\">3</text>\n</g>\n<!-- 0&#45;&#45;3 -->\n<g id=\"edge2\" class=\"edge\">\n<title>0&#45;&#45;3</title>\n<path fill=\"none\" stroke=\"#000000\" d=\"M99,-36.0265C99,-50.9578 99,-72.0717 99,-86.9966\"/>\n<text text-anchor=\"middle\" x=\"103\" y=\"-57.8\" font-family=\"Times,serif\" font-size=\"14.00\" fill=\"#000000\">9</text>\n</g>\n<!-- 4 -->\n<g id=\"node5\" class=\"node\">\n<title>4</title>\n<ellipse fill=\"none\" stroke=\"#000000\" cx=\"27\" cy=\"-105\" rx=\"27\" ry=\"18\"/>\n<text text-anchor=\"middle\" x=\"27\" y=\"-101.3\" font-family=\"Times,serif\" font-size=\"14.00\" fill=\"#000000\">4</text>\n</g>\n<!-- 0&#45;&#45;4 -->\n<g id=\"edge3\" class=\"edge\">\n<title>0&#45;&#45;4</title>\n<path fill=\"none\" stroke=\"#000000\" d=\"M85.7941,-33.9571C72.803,-49.6547 53.0843,-73.4815 40.1222,-89.144\"/>\n<text text-anchor=\"middle\" x=\"72\" y=\"-57.8\" font-family=\"Times,serif\" font-size=\"14.00\" fill=\"#000000\">6</text>\n</g>\n<!-- 1 -->\n<g id=\"node2\" class=\"node\">\n<title>1</title>\n<ellipse fill=\"none\" stroke=\"#000000\" cx=\"186\" cy=\"-18\" rx=\"27\" ry=\"18\"/>\n<text text-anchor=\"middle\" x=\"186\" y=\"-14.3\" font-family=\"Times,serif\" font-size=\"14.00\" fill=\"#000000\">1</text>\n</g>\n<!-- 1&#45;&#45;2 -->\n<g id=\"edge4\" class=\"edge\">\n<title>1&#45;&#45;2</title>\n<path fill=\"none\" stroke=\"#000000\" d=\"M182.892,-36.0265C180.3176,-50.9578 176.6773,-72.0717 174.104,-86.9966\"/>\n<text text-anchor=\"middle\" x=\"183\" y=\"-57.8\" font-family=\"Times,serif\" font-size=\"14.00\" fill=\"#000000\">6</text>\n</g>\n<!-- 5 -->\n<g id=\"node6\" class=\"node\">\n<title>5</title>\n<ellipse fill=\"none\" stroke=\"#000000\" cx=\"243\" cy=\"-105\" rx=\"27\" ry=\"18\"/>\n<text text-anchor=\"middle\" x=\"243\" y=\"-101.3\" font-family=\"Times,serif\" font-size=\"14.00\" fill=\"#000000\">5</text>\n</g>\n<!-- 1&#45;&#45;5 -->\n<g id=\"edge5\" class=\"edge\">\n<title>1&#45;&#45;5</title>\n<path fill=\"none\" stroke=\"#000000\" d=\"M196.9902,-34.7745C207.0836,-50.1802 221.9608,-72.8876 232.0436,-88.277\"/>\n<text text-anchor=\"middle\" x=\"221\" y=\"-57.8\" font-family=\"Times,serif\" font-size=\"14.00\" fill=\"#000000\">5</text>\n</g>\n<!-- 6 -->\n<g id=\"node7\" class=\"node\">\n<title>6</title>\n<ellipse fill=\"none\" stroke=\"#000000\" cx=\"171\" cy=\"-192\" rx=\"27\" ry=\"18\"/>\n<text text-anchor=\"middle\" x=\"171\" y=\"-188.3\" font-family=\"Times,serif\" font-size=\"14.00\" fill=\"#000000\">6</text>\n</g>\n<!-- 2&#45;&#45;6 -->\n<g id=\"edge6\" class=\"edge\">\n<title>2&#45;&#45;6</title>\n<path fill=\"none\" stroke=\"#000000\" d=\"M171,-123.0265C171,-137.9578 171,-159.0717 171,-173.9966\"/>\n<text text-anchor=\"middle\" x=\"175\" y=\"-144.8\" font-family=\"Times,serif\" font-size=\"14.00\" fill=\"#000000\">6</text>\n</g>\n<!-- 4&#45;&#45;6 -->\n<g id=\"edge7\" class=\"edge\">\n<title>4&#45;&#45;6</title>\n<path fill=\"none\" stroke=\"#000000\" d=\"M47.0226,-117.097C74.3796,-133.6252 123.1735,-163.1048 150.6832,-179.7253\"/>\n<text text-anchor=\"middle\" x=\"111\" y=\"-144.8\" font-family=\"Times,serif\" font-size=\"14.00\" fill=\"#000000\">1</text>\n</g>\n<!-- 5&#45;&#45;6 -->\n<g id=\"edge8\" class=\"edge\">\n<title>5&#45;&#45;6</title>\n<path fill=\"none\" stroke=\"#000000\" d=\"M229.7941,-120.9571C216.803,-136.6547 197.0843,-160.4815 184.1222,-176.144\"/>\n<text text-anchor=\"middle\" x=\"215\" y=\"-144.8\" font-family=\"Times,serif\" font-size=\"14.00\" fill=\"#000000\">4</text>\n</g>\n<!-- 7 -->\n<g id=\"node8\" class=\"node\">\n<title>7</title>\n<ellipse fill=\"none\" stroke=\"#000000\" cx=\"243\" cy=\"-192\" rx=\"27\" ry=\"18\"/>\n<text text-anchor=\"middle\" x=\"243\" y=\"-188.3\" font-family=\"Times,serif\" font-size=\"14.00\" fill=\"#000000\">7</text>\n</g>\n<!-- 5&#45;&#45;7 -->\n<g id=\"edge9\" class=\"edge\">\n<title>5&#45;&#45;7</title>\n<path fill=\"none\" stroke=\"#000000\" d=\"M243,-123.0265C243,-137.9578 243,-159.0717 243,-173.9966\"/>\n<text text-anchor=\"middle\" x=\"247\" y=\"-144.8\" font-family=\"Times,serif\" font-size=\"14.00\" fill=\"#000000\">4</text>\n</g>\n</g>\n</svg>\n"
          },
          "metadata": {
            "tags": []
          },
          "execution_count": 45
        }
      ]
    },
    {
      "cell_type": "code",
      "metadata": {
        "id": "TsvLqFm4UuvT",
        "colab_type": "code",
        "colab": {
          "base_uri": "https://localhost:8080/",
          "height": 312
        },
        "outputId": "08925046-b5e9-4389-c5e3-6c5df1f9f343"
      },
      "source": [
        "Gprima = kruskal(G)\n",
        "drawAL(Gprima)"
      ],
      "execution_count": null,
      "outputs": [
        {
          "output_type": "execute_result",
          "data": {
            "text/plain": [
              "<graphviz.dot.Graph at 0x7fccae277a58>"
            ],
            "image/svg+xml": "<?xml version=\"1.0\" encoding=\"UTF-8\" standalone=\"no\"?>\n<!DOCTYPE svg PUBLIC \"-//W3C//DTD SVG 1.1//EN\"\n \"http://www.w3.org/Graphics/SVG/1.1/DTD/svg11.dtd\">\n<!-- Generated by graphviz version 2.40.1 (20161225.0304)\n -->\n<!-- Title: %3 Pages: 1 -->\n<svg width=\"278pt\" height=\"218pt\"\n viewBox=\"0.00 0.00 278.00 218.00\" xmlns=\"http://www.w3.org/2000/svg\" xmlns:xlink=\"http://www.w3.org/1999/xlink\">\n<g id=\"graph0\" class=\"graph\" transform=\"scale(1 1) rotate(0) translate(4 214)\">\n<title>%3</title>\n<polygon fill=\"#ffffff\" stroke=\"transparent\" points=\"-4,4 -4,-214 274,-214 274,4 -4,4\"/>\n<!-- 0 -->\n<g id=\"node1\" class=\"node\">\n<title>0</title>\n<ellipse fill=\"none\" stroke=\"#000000\" cx=\"99\" cy=\"-18\" rx=\"27\" ry=\"18\"/>\n<text text-anchor=\"middle\" x=\"99\" y=\"-14.3\" font-family=\"Times,serif\" font-size=\"14.00\" fill=\"#000000\">0</text>\n</g>\n<!-- 2 -->\n<g id=\"node3\" class=\"node\">\n<title>2</title>\n<ellipse fill=\"none\" stroke=\"#000000\" cx=\"27\" cy=\"-105\" rx=\"27\" ry=\"18\"/>\n<text text-anchor=\"middle\" x=\"27\" y=\"-101.3\" font-family=\"Times,serif\" font-size=\"14.00\" fill=\"#000000\">2</text>\n</g>\n<!-- 0&#45;&#45;2 -->\n<g id=\"edge1\" class=\"edge\">\n<title>0&#45;&#45;2</title>\n<path fill=\"none\" stroke=\"#000000\" d=\"M85.7941,-33.9571C72.803,-49.6547 53.0843,-73.4815 40.1222,-89.144\"/>\n<text text-anchor=\"middle\" x=\"72\" y=\"-57.8\" font-family=\"Times,serif\" font-size=\"14.00\" fill=\"#000000\">2</text>\n</g>\n<!-- 3 -->\n<g id=\"node4\" class=\"node\">\n<title>3</title>\n<ellipse fill=\"none\" stroke=\"#000000\" cx=\"99\" cy=\"-105\" rx=\"27\" ry=\"18\"/>\n<text text-anchor=\"middle\" x=\"99\" y=\"-101.3\" font-family=\"Times,serif\" font-size=\"14.00\" fill=\"#000000\">3</text>\n</g>\n<!-- 0&#45;&#45;3 -->\n<g id=\"edge3\" class=\"edge\">\n<title>0&#45;&#45;3</title>\n<path fill=\"none\" stroke=\"#000000\" d=\"M99,-36.0265C99,-50.9578 99,-72.0717 99,-86.9966\"/>\n<text text-anchor=\"middle\" x=\"103\" y=\"-57.8\" font-family=\"Times,serif\" font-size=\"14.00\" fill=\"#000000\">9</text>\n</g>\n<!-- 4 -->\n<g id=\"node5\" class=\"node\">\n<title>4</title>\n<ellipse fill=\"none\" stroke=\"#000000\" cx=\"171\" cy=\"-105\" rx=\"27\" ry=\"18\"/>\n<text text-anchor=\"middle\" x=\"171\" y=\"-101.3\" font-family=\"Times,serif\" font-size=\"14.00\" fill=\"#000000\">4</text>\n</g>\n<!-- 0&#45;&#45;4 -->\n<g id=\"edge2\" class=\"edge\">\n<title>0&#45;&#45;4</title>\n<path fill=\"none\" stroke=\"#000000\" d=\"M112.2059,-33.9571C125.197,-49.6547 144.9157,-73.4815 157.8778,-89.144\"/>\n<text text-anchor=\"middle\" x=\"144\" y=\"-57.8\" font-family=\"Times,serif\" font-size=\"14.00\" fill=\"#000000\">6</text>\n</g>\n<!-- 1 -->\n<g id=\"node2\" class=\"node\">\n<title>1</title>\n<ellipse fill=\"none\" stroke=\"#000000\" cx=\"243\" cy=\"-18\" rx=\"27\" ry=\"18\"/>\n<text text-anchor=\"middle\" x=\"243\" y=\"-14.3\" font-family=\"Times,serif\" font-size=\"14.00\" fill=\"#000000\">1</text>\n</g>\n<!-- 5 -->\n<g id=\"node6\" class=\"node\">\n<title>5</title>\n<ellipse fill=\"none\" stroke=\"#000000\" cx=\"243\" cy=\"-105\" rx=\"27\" ry=\"18\"/>\n<text text-anchor=\"middle\" x=\"243\" y=\"-101.3\" font-family=\"Times,serif\" font-size=\"14.00\" fill=\"#000000\">5</text>\n</g>\n<!-- 1&#45;&#45;5 -->\n<g id=\"edge4\" class=\"edge\">\n<title>1&#45;&#45;5</title>\n<path fill=\"none\" stroke=\"#000000\" d=\"M243,-36.0265C243,-50.9578 243,-72.0717 243,-86.9966\"/>\n<text text-anchor=\"middle\" x=\"247\" y=\"-57.8\" font-family=\"Times,serif\" font-size=\"14.00\" fill=\"#000000\">5</text>\n</g>\n<!-- 6 -->\n<g id=\"node7\" class=\"node\">\n<title>6</title>\n<ellipse fill=\"none\" stroke=\"#000000\" cx=\"171\" cy=\"-192\" rx=\"27\" ry=\"18\"/>\n<text text-anchor=\"middle\" x=\"171\" y=\"-188.3\" font-family=\"Times,serif\" font-size=\"14.00\" fill=\"#000000\">6</text>\n</g>\n<!-- 4&#45;&#45;6 -->\n<g id=\"edge5\" class=\"edge\">\n<title>4&#45;&#45;6</title>\n<path fill=\"none\" stroke=\"#000000\" d=\"M171,-123.0265C171,-137.9578 171,-159.0717 171,-173.9966\"/>\n<text text-anchor=\"middle\" x=\"175\" y=\"-144.8\" font-family=\"Times,serif\" font-size=\"14.00\" fill=\"#000000\">1</text>\n</g>\n<!-- 5&#45;&#45;6 -->\n<g id=\"edge6\" class=\"edge\">\n<title>5&#45;&#45;6</title>\n<path fill=\"none\" stroke=\"#000000\" d=\"M229.7941,-120.9571C216.803,-136.6547 197.0843,-160.4815 184.1222,-176.144\"/>\n<text text-anchor=\"middle\" x=\"216\" y=\"-144.8\" font-family=\"Times,serif\" font-size=\"14.00\" fill=\"#000000\">4</text>\n</g>\n<!-- 7 -->\n<g id=\"node8\" class=\"node\">\n<title>7</title>\n<ellipse fill=\"none\" stroke=\"#000000\" cx=\"243\" cy=\"-192\" rx=\"27\" ry=\"18\"/>\n<text text-anchor=\"middle\" x=\"243\" y=\"-188.3\" font-family=\"Times,serif\" font-size=\"14.00\" fill=\"#000000\">7</text>\n</g>\n<!-- 5&#45;&#45;7 -->\n<g id=\"edge7\" class=\"edge\">\n<title>5&#45;&#45;7</title>\n<path fill=\"none\" stroke=\"#000000\" d=\"M243,-123.0265C243,-137.9578 243,-159.0717 243,-173.9966\"/>\n<text text-anchor=\"middle\" x=\"247\" y=\"-144.8\" font-family=\"Times,serif\" font-size=\"14.00\" fill=\"#000000\">4</text>\n</g>\n</g>\n</svg>\n"
          },
          "metadata": {
            "tags": []
          },
          "execution_count": 46
        }
      ]
    },
    {
      "cell_type": "markdown",
      "metadata": {
        "id": "XX3ZAAhvZQ2p",
        "colab_type": "text"
      },
      "source": [
        "\n",
        "\n",
        "```\n",
        "# E`sto tiene formato de código`\n",
        "```\n",
        "\n",
        "# Ejercicio de Clusters"
      ]
    },
    {
      "cell_type": "code",
      "metadata": {
        "id": "RC51txiJU5lh",
        "colab_type": "code",
        "colab": {}
      },
      "source": [
        "def klusterkal(G, k):\n",
        "    n = len(G)\n",
        "    Gprima = [[] for _ in range(n)]\n",
        "    ds = DisjointSet(n)\n",
        "    edges = []\n",
        "    for u in range(n):\n",
        "        for v, w in G[u]:\n",
        "            heapq.heappush(edges, (w, u, v))\n",
        "\n",
        "    numEdges = 0\n",
        "    while numEdges < n-k:\n",
        "        w, u, v = heapq.heappop(edges)\n",
        "        if ds.find(u) != ds.find(v):\n",
        "            ds.union(u, v)\n",
        "            Gprima[u].append((v, w))\n",
        "            Gprima[v].append((u, w))\n",
        "            numEdges += 1\n",
        "\n",
        "    return Gprima"
      ],
      "execution_count": null,
      "outputs": []
    },
    {
      "cell_type": "code",
      "metadata": {
        "id": "x9iXFHbyaqya",
        "colab_type": "code",
        "colab": {
          "base_uri": "https://localhost:8080/",
          "height": 312
        },
        "outputId": "7662fb3c-f93b-472e-93af-96f44e6729eb"
      },
      "source": [
        "klusters = klusterkal(G, 3)\n",
        "drawAL(klusters)"
      ],
      "execution_count": null,
      "outputs": [
        {
          "output_type": "execute_result",
          "data": {
            "text/plain": [
              "<graphviz.dot.Graph at 0x7fccae23f6a0>"
            ],
            "image/svg+xml": "<?xml version=\"1.0\" encoding=\"UTF-8\" standalone=\"no\"?>\n<!DOCTYPE svg PUBLIC \"-//W3C//DTD SVG 1.1//EN\"\n \"http://www.w3.org/Graphics/SVG/1.1/DTD/svg11.dtd\">\n<!-- Generated by graphviz version 2.40.1 (20161225.0304)\n -->\n<!-- Title: %3 Pages: 1 -->\n<svg width=\"206pt\" height=\"218pt\"\n viewBox=\"0.00 0.00 206.00 218.00\" xmlns=\"http://www.w3.org/2000/svg\" xmlns:xlink=\"http://www.w3.org/1999/xlink\">\n<g id=\"graph0\" class=\"graph\" transform=\"scale(1 1) rotate(0) translate(4 214)\">\n<title>%3</title>\n<polygon fill=\"#ffffff\" stroke=\"transparent\" points=\"-4,4 -4,-214 202,-214 202,4 -4,4\"/>\n<!-- 0 -->\n<g id=\"node1\" class=\"node\">\n<title>0</title>\n<ellipse fill=\"none\" stroke=\"#000000\" cx=\"27\" cy=\"-18\" rx=\"27\" ry=\"18\"/>\n<text text-anchor=\"middle\" x=\"27\" y=\"-14.3\" font-family=\"Times,serif\" font-size=\"14.00\" fill=\"#000000\">0</text>\n</g>\n<!-- 2 -->\n<g id=\"node3\" class=\"node\">\n<title>2</title>\n<ellipse fill=\"none\" stroke=\"#000000\" cx=\"27\" cy=\"-105\" rx=\"27\" ry=\"18\"/>\n<text text-anchor=\"middle\" x=\"27\" y=\"-101.3\" font-family=\"Times,serif\" font-size=\"14.00\" fill=\"#000000\">2</text>\n</g>\n<!-- 0&#45;&#45;2 -->\n<g id=\"edge1\" class=\"edge\">\n<title>0&#45;&#45;2</title>\n<path fill=\"none\" stroke=\"#000000\" d=\"M27,-36.0265C27,-50.9578 27,-72.0717 27,-86.9966\"/>\n<text text-anchor=\"middle\" x=\"31\" y=\"-57.8\" font-family=\"Times,serif\" font-size=\"14.00\" fill=\"#000000\">2</text>\n</g>\n<!-- 1 -->\n<g id=\"node2\" class=\"node\">\n<title>1</title>\n<ellipse fill=\"none\" stroke=\"#000000\" cx=\"99\" cy=\"-18\" rx=\"27\" ry=\"18\"/>\n<text text-anchor=\"middle\" x=\"99\" y=\"-14.3\" font-family=\"Times,serif\" font-size=\"14.00\" fill=\"#000000\">1</text>\n</g>\n<!-- 5 -->\n<g id=\"node6\" class=\"node\">\n<title>5</title>\n<ellipse fill=\"none\" stroke=\"#000000\" cx=\"99\" cy=\"-105\" rx=\"27\" ry=\"18\"/>\n<text text-anchor=\"middle\" x=\"99\" y=\"-101.3\" font-family=\"Times,serif\" font-size=\"14.00\" fill=\"#000000\">5</text>\n</g>\n<!-- 1&#45;&#45;5 -->\n<g id=\"edge2\" class=\"edge\">\n<title>1&#45;&#45;5</title>\n<path fill=\"none\" stroke=\"#000000\" d=\"M99,-36.0265C99,-50.9578 99,-72.0717 99,-86.9966\"/>\n<text text-anchor=\"middle\" x=\"103\" y=\"-57.8\" font-family=\"Times,serif\" font-size=\"14.00\" fill=\"#000000\">5</text>\n</g>\n<!-- 3 -->\n<g id=\"node4\" class=\"node\">\n<title>3</title>\n<ellipse fill=\"none\" stroke=\"#000000\" cx=\"171\" cy=\"-18\" rx=\"27\" ry=\"18\"/>\n<text text-anchor=\"middle\" x=\"171\" y=\"-14.3\" font-family=\"Times,serif\" font-size=\"14.00\" fill=\"#000000\">3</text>\n</g>\n<!-- 4 -->\n<g id=\"node5\" class=\"node\">\n<title>4</title>\n<ellipse fill=\"none\" stroke=\"#000000\" cx=\"171\" cy=\"-105\" rx=\"27\" ry=\"18\"/>\n<text text-anchor=\"middle\" x=\"171\" y=\"-101.3\" font-family=\"Times,serif\" font-size=\"14.00\" fill=\"#000000\">4</text>\n</g>\n<!-- 6 -->\n<g id=\"node7\" class=\"node\">\n<title>6</title>\n<ellipse fill=\"none\" stroke=\"#000000\" cx=\"171\" cy=\"-192\" rx=\"27\" ry=\"18\"/>\n<text text-anchor=\"middle\" x=\"171\" y=\"-188.3\" font-family=\"Times,serif\" font-size=\"14.00\" fill=\"#000000\">6</text>\n</g>\n<!-- 4&#45;&#45;6 -->\n<g id=\"edge3\" class=\"edge\">\n<title>4&#45;&#45;6</title>\n<path fill=\"none\" stroke=\"#000000\" d=\"M171,-123.0265C171,-137.9578 171,-159.0717 171,-173.9966\"/>\n<text text-anchor=\"middle\" x=\"175\" y=\"-144.8\" font-family=\"Times,serif\" font-size=\"14.00\" fill=\"#000000\">1</text>\n</g>\n<!-- 5&#45;&#45;6 -->\n<g id=\"edge4\" class=\"edge\">\n<title>5&#45;&#45;6</title>\n<path fill=\"none\" stroke=\"#000000\" d=\"M112.2059,-120.9571C125.197,-136.6547 144.9157,-160.4815 157.8778,-176.144\"/>\n<text text-anchor=\"middle\" x=\"143\" y=\"-144.8\" font-family=\"Times,serif\" font-size=\"14.00\" fill=\"#000000\">4</text>\n</g>\n<!-- 7 -->\n<g id=\"node8\" class=\"node\">\n<title>7</title>\n<ellipse fill=\"none\" stroke=\"#000000\" cx=\"99\" cy=\"-192\" rx=\"27\" ry=\"18\"/>\n<text text-anchor=\"middle\" x=\"99\" y=\"-188.3\" font-family=\"Times,serif\" font-size=\"14.00\" fill=\"#000000\">7</text>\n</g>\n<!-- 5&#45;&#45;7 -->\n<g id=\"edge5\" class=\"edge\">\n<title>5&#45;&#45;7</title>\n<path fill=\"none\" stroke=\"#000000\" d=\"M99,-123.0265C99,-137.9578 99,-159.0717 99,-173.9966\"/>\n<text text-anchor=\"middle\" x=\"103\" y=\"-144.8\" font-family=\"Times,serif\" font-size=\"14.00\" fill=\"#000000\">4</text>\n</g>\n</g>\n</svg>\n"
          },
          "metadata": {
            "tags": []
          },
          "execution_count": 53
        }
      ]
    },
    {
      "cell_type": "code",
      "metadata": {
        "id": "guSlNn_cav3P",
        "colab_type": "code",
        "colab": {}
      },
      "source": [
        ""
      ],
      "execution_count": null,
      "outputs": []
    }
  ]
}