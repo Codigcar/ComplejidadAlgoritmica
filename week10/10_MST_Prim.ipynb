{
  "nbformat": 4,
  "nbformat_minor": 0,
  "metadata": {
    "colab": {
      "name": "10-MST-Prim.ipynb",
      "provenance": [],
      "include_colab_link": true
    },
    "kernelspec": {
      "name": "python3",
      "display_name": "Python 3"
    }
  },
  "cells": [
    {
      "cell_type": "markdown",
      "metadata": {
        "id": "view-in-github",
        "colab_type": "text"
      },
      "source": [
        "<a href=\"https://colab.research.google.com/github/Codigcar/ComplejidadAlgoritmica/blob/master/week10/10_MST_Prim.ipynb\" target=\"_parent\"><img src=\"https://colab.research.google.com/assets/colab-badge.svg\" alt=\"Open In Colab\"/></a>"
      ]
    },
    {
      "cell_type": "markdown",
      "metadata": {
        "id": "Sp0OvoJ-H3O-",
        "colab_type": "text"
      },
      "source": [
        "# Minimum Expansion Tree\n",
        "\n",
        "## Prim"
      ]
    },
    {
      "cell_type": "code",
      "metadata": {
        "id": "Gw88blA_IAUN",
        "colab_type": "code",
        "colab": {}
      },
      "source": [
        "from heapq import heappush, heappop\n",
        "import math"
      ],
      "execution_count": null,
      "outputs": []
    },
    {
      "cell_type": "code",
      "metadata": {
        "id": "PolkgfKaHmEp",
        "colab_type": "code",
        "colab": {}
      },
      "source": [
        "def prim(G):\n",
        "    n = len(G)\n",
        "    known = [False]*n\n",
        "    cost = [math.inf]*n\n",
        "    path = [None]*n\n",
        "    queue = []\n",
        "    cost[0] = 0\n",
        "    heappush(queue, (0, 0)) # donde, dist, vert\n",
        "    while queue:\n",
        "        _, u = heappop(queue)\n",
        "        if not known[u]:\n",
        "            known[u] = True\n",
        "            for v, w in G[u]:\n",
        "                if not known[v] and w < cost[v]:\n",
        "                    cost[v] = w\n",
        "                    path[v] = u\n",
        "                    heappush(queue, (w, v))\n",
        "\n",
        "    return path, cost"
      ],
      "execution_count": null,
      "outputs": []
    },
    {
      "cell_type": "code",
      "metadata": {
        "id": "tq03dBRDJGzl",
        "colab_type": "code",
        "colab": {}
      },
      "source": [
        "G = [[(1, 1), (2, 5)],\n",
        "     [(0, 1), (4, 6), (5, 7)],\n",
        "     [(0, 5), (3, 3), (4, 2)],\n",
        "     [(2, 3), (4, 4), (5, 1)],\n",
        "     [(1, 6), (2, 2), (3, 4), (5, 3)],\n",
        "     [(1, 7), (3, 1), (4, 3)]]"
      ],
      "execution_count": null,
      "outputs": []
    },
    {
      "cell_type": "code",
      "metadata": {
        "id": "TMxRz9qsKHOh",
        "colab_type": "code",
        "colab": {
          "base_uri": "https://localhost:8080/",
          "height": 34
        },
        "outputId": "906c1aca-ca80-4552-8a43-9ce998b4f7d1"
      },
      "source": [
        "print(prim(G))"
      ],
      "execution_count": null,
      "outputs": [
        {
          "output_type": "stream",
          "text": [
            "([None, 0, 0, 2, 2, 3], [0, 1, 5, 3, 2, 1])\n"
          ],
          "name": "stdout"
        }
      ]
    },
    {
      "cell_type": "code",
      "metadata": {
        "id": "UynGQ7ZuKJ7F",
        "colab_type": "code",
        "colab": {}
      },
      "source": [
        ""
      ],
      "execution_count": null,
      "outputs": []
    }
  ]
}