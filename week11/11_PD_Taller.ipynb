{
  "nbformat": 4,
  "nbformat_minor": 0,
  "metadata": {
    "colab": {
      "name": "11-PD Taller.ipynb",
      "provenance": [],
      "collapsed_sections": [],
      "authorship_tag": "ABX9TyPsHgyf515FLu7lw1brRQ+q",
      "include_colab_link": true
    },
    "kernelspec": {
      "name": "python3",
      "display_name": "Python 3"
    }
  },
  "cells": [
    {
      "cell_type": "markdown",
      "metadata": {
        "id": "view-in-github",
        "colab_type": "text"
      },
      "source": [
        "<a href=\"https://colab.research.google.com/github/Codigcar/ComplejidadAlgoritmica/blob/master/week11/11_PD_Taller.ipynb\" target=\"_parent\"><img src=\"https://colab.research.google.com/assets/colab-badge.svg\" alt=\"Open In Colab\"/></a>"
      ]
    },
    {
      "cell_type": "markdown",
      "metadata": {
        "id": "uLUy7bbvCAzI",
        "colab_type": "text"
      },
      "source": [
        "#Recursiva(Finonacci) con Memorizacion (PD) \n"
      ]
    },
    {
      "cell_type": "code",
      "metadata": {
        "id": "OJEFr_XcCKSP",
        "colab_type": "code",
        "colab": {}
      },
      "source": [
        "def fibonacci(t, memoria, tab=''):\n",
        "    print(\"{}Fibonacci({})\".format(tab,t))\n",
        "    if memoria[t] == -1:\n",
        "          memoria[t] = fibonacci(t-1, memoria, tab+'-')+fibonacci(t-2,memoria,tab+'-')\n",
        "    return memoria[t]"
      ],
      "execution_count": 18,
      "outputs": []
    },
    {
      "cell_type": "code",
      "metadata": {
        "id": "aI2aMVsxCiVX",
        "colab_type": "code",
        "colab": {
          "base_uri": "https://localhost:8080/",
          "height": 163
        },
        "outputId": "9dba5a39-f0e1-4030-fd77-2a84d795856a"
      },
      "source": [
        "t=5\n",
        "memoria= [-1] * (t + 1)\n",
        "memoria[0] = None\n",
        "memoria[1] = 0\n",
        "memoria[2] = 1\n",
        "fibonacci(t, memoria)"
      ],
      "execution_count": 19,
      "outputs": [
        {
          "output_type": "stream",
          "text": [
            "Fibonacci(5)\n",
            "-Fibonacci(4)\n",
            "--Fibonacci(3)\n",
            "---Fibonacci(2)\n",
            "---Fibonacci(1)\n",
            "--Fibonacci(2)\n",
            "-Fibonacci(3)\n"
          ],
          "name": "stdout"
        },
        {
          "output_type": "execute_result",
          "data": {
            "text/plain": [
              "3"
            ]
          },
          "metadata": {
            "tags": []
          },
          "execution_count": 19
        }
      ]
    },
    {
      "cell_type": "markdown",
      "metadata": {
        "id": "r1zozfHh-OOV",
        "colab_type": "text"
      },
      "source": [
        "#Monedas"
      ]
    },
    {
      "cell_type": "code",
      "metadata": {
        "id": "YRx16vj5-GHv",
        "colab_type": "code",
        "colab": {}
      },
      "source": [
        "import numpy as np"
      ],
      "execution_count": 1,
      "outputs": []
    },
    {
      "cell_type": "code",
      "metadata": {
        "id": "NOMVolth-TNI",
        "colab_type": "code",
        "colab": {}
      },
      "source": [
        "def sencillar(cantidades):\n",
        "    global valores  #denominacion de la moneda: si es 1 sol, o moneda de 5 soles etc\n",
        "    for i in range(0, len(cantidades)):\n",
        "        if i == 0: continue\n",
        "        cantidades[i] = np.inf\n",
        "        for valor in valores:\n",
        "            if valor <= i:\n",
        "                cantidades[i] = min(cantidades[i], 1 + cantidades[i-valor])\n",
        "            else:\n",
        "                break"
      ],
      "execution_count": 6,
      "outputs": []
    },
    {
      "cell_type": "code",
      "metadata": {
        "id": "13wnpu4Q-zT9",
        "colab_type": "code",
        "colab": {
          "base_uri": "https://localhost:8080/",
          "height": 54
        },
        "outputId": "29d7b336-a61c-4cfd-a8ff-16c5c7020e66"
      },
      "source": [
        "global valores\n",
        "valores = [1, 5, 10, 20, 25 , 50]  #monedas\n",
        "cantidad = int(input())\n",
        "cantidades = [-1]*(cantidad + 1)\n",
        "cantidades[0] = 0\n",
        "sencillar(cantidades)\n",
        "cantidades[-1]"
      ],
      "execution_count": 9,
      "outputs": [
        {
          "output_type": "stream",
          "text": [
            "34\n"
          ],
          "name": "stdout"
        },
        {
          "output_type": "execute_result",
          "data": {
            "text/plain": [
              "6"
            ]
          },
          "metadata": {
            "tags": []
          },
          "execution_count": 9
        }
      ]
    },
    {
      "cell_type": "code",
      "metadata": {
        "id": "WiTlLbDC_Q8T",
        "colab_type": "code",
        "colab": {}
      },
      "source": [
        ""
      ],
      "execution_count": null,
      "outputs": []
    }
  ]
}