{
  "nbformat": 4,
  "nbformat_minor": 0,
  "metadata": {
    "colab": {
      "name": "Pc1Ej02-201902.ipynb",
      "provenance": [],
      "collapsed_sections": [],
      "authorship_tag": "ABX9TyNIIHvtURWt5HMewoptshYE",
      "include_colab_link": true
    },
    "kernelspec": {
      "name": "python3",
      "display_name": "Python 3"
    }
  },
  "cells": [
    {
      "cell_type": "markdown",
      "metadata": {
        "id": "view-in-github",
        "colab_type": "text"
      },
      "source": [
        "<a href=\"https://colab.research.google.com/github/Codigcar/ComplejidadAlgoritmica/blob/master/PC1/Pc1Ej02_201902.ipynb\" target=\"_parent\"><img src=\"https://colab.research.google.com/assets/colab-badge.svg\" alt=\"Open In Colab\"/></a>"
      ]
    },
    {
      "cell_type": "code",
      "metadata": {
        "id": "ZXu-1a7qvVYY",
        "colab_type": "code",
        "outputId": "26c561fb-3120-499f-c8a3-81650ae20fff",
        "colab": {
          "base_uri": "https://localhost:8080/",
          "height": 105
        }
      },
      "source": [
        "\n",
        "with open('ej2.txt') as file:\n",
        "    line = file.readline()\n",
        "    case = 1\n",
        "  #for i in file:\n",
        "  # print(i)\n",
        "    while line != \"0 0\":\n",
        "        N, Q = (int(x) for x in line.split(' ')) # \"4 5 6\" -> [\"4\", \"5\", \"6\"]\n",
        "\n",
        "\n",
        "\n",
        "        numbers = {}\n",
        "        for i in range(N):\n",
        "            nro = int(file.readline())\n",
        "            if not nro in numbers:\n",
        "                numbers[nro] = i + 1\n",
        "\n",
        "        print(\"CASE# \", case)\n",
        "        case = case + 1\n",
        "        \n",
        "        for i in range(Q):\n",
        "            nro = int(file.readline())\n",
        "            if nro in numbers:\n",
        "                print(nro, \"found at\", numbers[nro])\n",
        "            else:\n",
        "                print(nro, \"not found\")\n",
        "\n",
        "        line = file.readline()\n",
        "\n",
        "\n",
        "'''\n",
        "    numbers = []\n",
        "    for i in range(N):\n",
        "      numbers.append(int(file.readline()))\n",
        "\n",
        "    queries = []\n",
        "    for i in range(Q):\n",
        "        queries.append(int(file.readline()))\n",
        "\n",
        "    line = file.readline()\n",
        "    print(N, Q)\n",
        "    print(numbers)\n",
        "    print(queries)\n",
        "'''\n",
        "\n"
      ],
      "execution_count": 16,
      "outputs": [
        {
          "output_type": "stream",
          "text": [
            "CASE#  1\n",
            "5 found at 3\n",
            "CASE#  2\n",
            "2 not found\n",
            "3 found at 2\n"
          ],
          "name": "stdout"
        }
      ]
    }
  ]
}