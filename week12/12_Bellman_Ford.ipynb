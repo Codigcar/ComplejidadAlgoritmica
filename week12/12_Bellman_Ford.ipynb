{
  "nbformat": 4,
  "nbformat_minor": 0,
  "metadata": {
    "colab": {
      "name": " 12-Bellman-Ford.ipynb",
      "provenance": [],
      "include_colab_link": true
    },
    "kernelspec": {
      "name": "python3",
      "display_name": "Python 3"
    }
  },
  "cells": [
    {
      "cell_type": "markdown",
      "metadata": {
        "id": "view-in-github",
        "colab_type": "text"
      },
      "source": [
        "<a href=\"https://colab.research.google.com/github/Codigcar/ComplejidadAlgoritmica/blob/master/week12/12_Bellman_Ford.ipynb\" target=\"_parent\"><img src=\"https://colab.research.google.com/assets/colab-badge.svg\" alt=\"Open In Colab\"/></a>"
      ]
    },
    {
      "cell_type": "markdown",
      "metadata": {
        "id": "Qu4ubehmSc6T",
        "colab_type": "text"
      },
      "source": [
        "# Dynamic Programming in Graphs\n",
        "\n",
        "## Bellman-Ford\n",
        "\n",
        "Algorithm for shortest path from single source"
      ]
    },
    {
      "cell_type": "code",
      "metadata": {
        "id": "GHdGb2neQ4JW",
        "colab_type": "code",
        "colab": {}
      },
      "source": [
        "import math\n",
        "\n",
        "def bellmanFord(G, s):\n",
        "    n = len(G)\n",
        "    dist = [math.inf]*n\n",
        "    path = [None]*n\n",
        "\n",
        "    dist[s] = 0\n",
        "\n",
        "    for i in range(n-1):\n",
        "\n",
        "        for u in range(n):\n",
        "            for v, w in G[u]:\n",
        "                f = dist[u] + w\n",
        "                if f < dist[v]:\n",
        "                    dist[v] = f\n",
        "                    path[v] = u\n",
        "\n",
        "    for u in range(n):\n",
        "        for v, w in G[u]:\n",
        "            if dist[v] > dist[u] + w:\n",
        "                return False, _, _\n",
        "    \n",
        "    return True, path, dist\n",
        "    "
      ],
      "execution_count": null,
      "outputs": []
    },
    {
      "cell_type": "code",
      "metadata": {
        "id": "g0eptzR8at7b",
        "colab_type": "code",
        "colab": {}
      },
      "source": [
        "import graphviz as gv\n",
        "\n",
        "def drawAdjListGraph(G):\n",
        "    dot = gv.Digraph(strict=True)\n",
        "    n = len(G)\n",
        "    for u in range(n):\n",
        "        for v, w in G[u]:\n",
        "            dot.edge(str(u), str(v), label=str(w))\n",
        "    \n",
        "    dot.graph_attr['rankdir'] = 'LR'\n",
        "    return dot"
      ],
      "execution_count": null,
      "outputs": []
    },
    {
      "cell_type": "code",
      "metadata": {
        "id": "6lbkCD4Taw3y",
        "colab_type": "code",
        "colab": {}
      },
      "source": [
        "def loadAdjListGraph(filename):\n",
        "    G = []\n",
        "    with open(filename) as file:\n",
        "        for line in file:\n",
        "            if line == '*':\n",
        "                G.append([])\n",
        "            else:\n",
        "                temp = line.strip().split(' ')\n",
        "                temp = [p.split(',') for p in temp]\n",
        "                temp = [(int(x), int(y)) for x, y in temp]\n",
        "                G.append(temp)\n",
        "\n",
        "    return G"
      ],
      "execution_count": null,
      "outputs": []
    },
    {
      "cell_type": "code",
      "metadata": {
        "id": "8USJP79Ha23u",
        "colab_type": "code",
        "colab": {
          "base_uri": "https://localhost:8080/",
          "height": 34
        },
        "outputId": "0094b44a-7d77-4991-8565-952d590a023a"
      },
      "source": [
        "%%writefile grafo.al\n",
        "1,10 2,20\n",
        "3,50 4,10\n",
        "3,20 4,33\n",
        "4,-20 5,-2\n",
        "5,1\n",
        "*"
      ],
      "execution_count": null,
      "outputs": [
        {
          "output_type": "stream",
          "text": [
            "Overwriting grafo.al\n"
          ],
          "name": "stdout"
        }
      ]
    },
    {
      "cell_type": "code",
      "metadata": {
        "id": "dOZ0s2QcbdZr",
        "colab_type": "code",
        "colab": {
          "base_uri": "https://localhost:8080/",
          "height": 310
        },
        "outputId": "6d0d4496-22c6-42eb-a5c6-684c882cb98c"
      },
      "source": [
        "G = loadAdjListGraph('grafo.al')\n",
        "for l in G:\n",
        "    print(l)\n",
        "drawAdjListGraph(G)"
      ],
      "execution_count": null,
      "outputs": [
        {
          "output_type": "stream",
          "text": [
            "[(1, 10), (2, 20)]\n",
            "[(3, 50), (4, 10)]\n",
            "[(3, 20), (4, 33)]\n",
            "[(4, -20), (5, -2)]\n",
            "[(5, 1)]\n",
            "[]\n"
          ],
          "name": "stdout"
        },
        {
          "output_type": "execute_result",
          "data": {
            "text/plain": [
              "<graphviz.dot.Digraph at 0x7f7fd45bf6d8>"
            ],
            "image/svg+xml": "<?xml version=\"1.0\" encoding=\"UTF-8\" standalone=\"no\"?>\n<!DOCTYPE svg PUBLIC \"-//W3C//DTD SVG 1.1//EN\"\n \"http://www.w3.org/Graphics/SVG/1.1/DTD/svg11.dtd\">\n<!-- Generated by graphviz version 2.40.1 (20161225.0304)\n -->\n<!-- Title: %3 Pages: 1 -->\n<svg width=\"482pt\" height=\"141pt\"\n viewBox=\"0.00 0.00 482.00 141.00\" xmlns=\"http://www.w3.org/2000/svg\" xmlns:xlink=\"http://www.w3.org/1999/xlink\">\n<g id=\"graph0\" class=\"graph\" transform=\"scale(1 1) rotate(0) translate(4 137)\">\n<title>%3</title>\n<polygon fill=\"#ffffff\" stroke=\"transparent\" points=\"-4,4 -4,-137 478,-137 478,4 -4,4\"/>\n<!-- 0 -->\n<g id=\"node1\" class=\"node\">\n<title>0</title>\n<ellipse fill=\"none\" stroke=\"#000000\" cx=\"27\" cy=\"-88\" rx=\"27\" ry=\"18\"/>\n<text text-anchor=\"middle\" x=\"27\" y=\"-84.3\" font-family=\"Times,serif\" font-size=\"14.00\" fill=\"#000000\">0</text>\n</g>\n<!-- 1 -->\n<g id=\"node2\" class=\"node\">\n<title>1</title>\n<ellipse fill=\"none\" stroke=\"#000000\" cx=\"133\" cy=\"-61\" rx=\"27\" ry=\"18\"/>\n<text text-anchor=\"middle\" x=\"133\" y=\"-57.3\" font-family=\"Times,serif\" font-size=\"14.00\" fill=\"#000000\">1</text>\n</g>\n<!-- 0&#45;&gt;1 -->\n<g id=\"edge1\" class=\"edge\">\n<title>0&#45;&gt;1</title>\n<path fill=\"none\" stroke=\"#000000\" d=\"M51.64,-79.8877C58.2203,-77.844 65.3509,-75.7389 72,-74 80.1179,-71.877 88.9106,-69.848 97.2257,-68.0508\"/>\n<polygon fill=\"#000000\" stroke=\"#000000\" points=\"97.989,-71.4669 107.0539,-65.9827 96.5475,-64.6169 97.989,-71.4669\"/>\n<text text-anchor=\"middle\" x=\"80\" y=\"-77.8\" font-family=\"Times,serif\" font-size=\"14.00\" fill=\"#000000\">10</text>\n</g>\n<!-- 2 -->\n<g id=\"node3\" class=\"node\">\n<title>2</title>\n<ellipse fill=\"none\" stroke=\"#000000\" cx=\"133\" cy=\"-115\" rx=\"27\" ry=\"18\"/>\n<text text-anchor=\"middle\" x=\"133\" y=\"-111.3\" font-family=\"Times,serif\" font-size=\"14.00\" fill=\"#000000\">2</text>\n</g>\n<!-- 0&#45;&gt;2 -->\n<g id=\"edge2\" class=\"edge\">\n<title>0&#45;&gt;2</title>\n<path fill=\"none\" stroke=\"#000000\" d=\"M52.3896,-94.4672C65.9255,-97.915 82.7949,-102.2119 97.5982,-105.9826\"/>\n<polygon fill=\"#000000\" stroke=\"#000000\" points=\"96.8956,-109.4153 107.4502,-108.492 98.6235,-102.6319 96.8956,-109.4153\"/>\n<text text-anchor=\"middle\" x=\"80\" y=\"-106.8\" font-family=\"Times,serif\" font-size=\"14.00\" fill=\"#000000\">20</text>\n</g>\n<!-- 3 -->\n<g id=\"node4\" class=\"node\">\n<title>3</title>\n<ellipse fill=\"none\" stroke=\"#000000\" cx=\"239\" cy=\"-18\" rx=\"27\" ry=\"18\"/>\n<text text-anchor=\"middle\" x=\"239\" y=\"-14.3\" font-family=\"Times,serif\" font-size=\"14.00\" fill=\"#000000\">3</text>\n</g>\n<!-- 1&#45;&gt;3 -->\n<g id=\"edge3\" class=\"edge\">\n<title>1&#45;&gt;3</title>\n<path fill=\"none\" stroke=\"#000000\" d=\"M156.2621,-51.5635C170.898,-45.6263 190.0072,-37.8744 206.1732,-31.3165\"/>\n<polygon fill=\"#000000\" stroke=\"#000000\" points=\"207.8412,-34.417 215.7921,-27.4145 205.2098,-27.9304 207.8412,-34.417\"/>\n<text text-anchor=\"middle\" x=\"186\" y=\"-46.8\" font-family=\"Times,serif\" font-size=\"14.00\" fill=\"#000000\">50</text>\n</g>\n<!-- 4 -->\n<g id=\"node5\" class=\"node\">\n<title>4</title>\n<ellipse fill=\"none\" stroke=\"#000000\" cx=\"349\" cy=\"-66\" rx=\"27\" ry=\"18\"/>\n<text text-anchor=\"middle\" x=\"349\" y=\"-62.3\" font-family=\"Times,serif\" font-size=\"14.00\" fill=\"#000000\">4</text>\n</g>\n<!-- 1&#45;&gt;4 -->\n<g id=\"edge4\" class=\"edge\">\n<title>1&#45;&gt;4</title>\n<path fill=\"none\" stroke=\"#000000\" d=\"M160.3565,-61.6333C198.7403,-62.5218 268.6983,-64.1412 311.7878,-65.1386\"/>\n<polygon fill=\"#000000\" stroke=\"#000000\" points=\"311.7872,-68.6394 321.8656,-65.3719 311.9493,-61.6413 311.7872,-68.6394\"/>\n<text text-anchor=\"middle\" x=\"239\" y=\"-68.8\" font-family=\"Times,serif\" font-size=\"14.00\" fill=\"#000000\">10</text>\n</g>\n<!-- 2&#45;&gt;3 -->\n<g id=\"edge5\" class=\"edge\">\n<title>2&#45;&gt;3</title>\n<path fill=\"none\" stroke=\"#000000\" d=\"M149.8021,-100.8631C162.1863,-90.3327 179.3526,-75.5026 194,-62 201.4337,-55.1473 209.3727,-47.5 216.4805,-40.5278\"/>\n<polygon fill=\"#000000\" stroke=\"#000000\" points=\"219.1472,-42.8134 223.8037,-33.2967 214.2288,-37.8324 219.1472,-42.8134\"/>\n<text text-anchor=\"middle\" x=\"186\" y=\"-78.8\" font-family=\"Times,serif\" font-size=\"14.00\" fill=\"#000000\">20</text>\n</g>\n<!-- 2&#45;&gt;4 -->\n<g id=\"edge6\" class=\"edge\">\n<title>2&#45;&gt;4</title>\n<path fill=\"none\" stroke=\"#000000\" d=\"M159.21,-110.1056C192.8854,-103.6745 253.0741,-91.6982 304,-79 307.4175,-78.1479 310.9668,-77.2119 314.5053,-76.245\"/>\n<polygon fill=\"#000000\" stroke=\"#000000\" points=\"315.6524,-79.5582 324.3312,-73.4814 313.7571,-72.8197 315.6524,-79.5582\"/>\n<text text-anchor=\"middle\" x=\"239\" y=\"-102.8\" font-family=\"Times,serif\" font-size=\"14.00\" fill=\"#000000\">33</text>\n</g>\n<!-- 3&#45;&gt;4 -->\n<g id=\"edge7\" class=\"edge\">\n<title>3&#45;&gt;4</title>\n<path fill=\"none\" stroke=\"#000000\" d=\"M263.0182,-26.5494C275.389,-31.1256 290.6409,-37.0368 304,-43 308.7846,-45.1357 313.7857,-47.5266 318.642,-49.9374\"/>\n<polygon fill=\"#000000\" stroke=\"#000000\" points=\"317.2056,-53.1334 327.7072,-54.5362 320.3725,-46.8907 317.2056,-53.1334\"/>\n<text text-anchor=\"middle\" x=\"294\" y=\"-46.8\" font-family=\"Times,serif\" font-size=\"14.00\" fill=\"#000000\">&#45;20</text>\n</g>\n<!-- 5 -->\n<g id=\"node6\" class=\"node\">\n<title>5</title>\n<ellipse fill=\"none\" stroke=\"#000000\" cx=\"447\" cy=\"-25\" rx=\"27\" ry=\"18\"/>\n<text text-anchor=\"middle\" x=\"447\" y=\"-21.3\" font-family=\"Times,serif\" font-size=\"14.00\" fill=\"#000000\">5</text>\n</g>\n<!-- 3&#45;&gt;5 -->\n<g id=\"edge8\" class=\"edge\">\n<title>3&#45;&gt;5</title>\n<path fill=\"none\" stroke=\"#000000\" d=\"M266.1924,-18.9151C302.8633,-20.1492 368.3201,-22.3521 409.6042,-23.7415\"/>\n<polygon fill=\"#000000\" stroke=\"#000000\" points=\"409.6889,-27.2462 419.801,-24.0846 409.9244,-20.2502 409.6889,-27.2462\"/>\n<text text-anchor=\"middle\" x=\"349\" y=\"-26.8\" font-family=\"Times,serif\" font-size=\"14.00\" fill=\"#000000\">&#45;2</text>\n</g>\n<!-- 4&#45;&gt;5 -->\n<g id=\"edge9\" class=\"edge\">\n<title>4&#45;&gt;5</title>\n<path fill=\"none\" stroke=\"#000000\" d=\"M372.2246,-56.2836C384.7955,-51.0244 400.5303,-44.4414 414.3189,-38.6727\"/>\n<polygon fill=\"#000000\" stroke=\"#000000\" points=\"416.0677,-41.7351 423.9421,-34.6467 413.366,-35.2774 416.0677,-41.7351\"/>\n<text text-anchor=\"middle\" x=\"398\" y=\"-50.8\" font-family=\"Times,serif\" font-size=\"14.00\" fill=\"#000000\">1</text>\n</g>\n</g>\n</svg>\n"
          },
          "metadata": {
            "tags": []
          },
          "execution_count": 59
        }
      ]
    },
    {
      "cell_type": "code",
      "metadata": {
        "id": "2LA2G__UeMFm",
        "colab_type": "code",
        "colab": {}
      },
      "source": [
        "def draw(path, dist):\n",
        "    dot = gv.Digraph(comment=\"G\")\n",
        "    n = len(path)\n",
        "    for i in range(n):\n",
        "        dot.node(str(i), str(i))\n",
        "    for i in range(n):\n",
        "        if path[i] != None:\n",
        "            dot.edge(str(path[i]), str(i), label=str(dist[i]))\n",
        "    dot.graph_attr['rankdir'] = 'LR'\n",
        "    return dot"
      ],
      "execution_count": null,
      "outputs": []
    },
    {
      "cell_type": "code",
      "metadata": {
        "id": "-WPX0ffGbfj3",
        "colab_type": "code",
        "colab": {
          "base_uri": "https://localhost:8080/",
          "height": 186
        },
        "outputId": "b708a1ff-9a3e-4ca0-e218-6b88f03398db"
      },
      "source": [
        "ok, path, dist = bellmanFord(G, 0)\n",
        "print(path)\n",
        "print(dist)\n",
        "draw(path, dist)"
      ],
      "execution_count": null,
      "outputs": [
        {
          "output_type": "stream",
          "text": [
            "[None, 0, 0, 2, 1, 4]\n",
            "[0, 10, 20, 40, 20, 21]\n"
          ],
          "name": "stdout"
        },
        {
          "output_type": "execute_result",
          "data": {
            "text/plain": [
              "<graphviz.dot.Digraph at 0x7f7fd45bf390>"
            ],
            "image/svg+xml": "<?xml version=\"1.0\" encoding=\"UTF-8\" standalone=\"no\"?>\n<!DOCTYPE svg PUBLIC \"-//W3C//DTD SVG 1.1//EN\"\n \"http://www.w3.org/Graphics/SVG/1.1/DTD/svg11.dtd\">\n<!-- Generated by graphviz version 2.40.1 (20161225.0304)\n -->\n<!-- Title: %3 Pages: 1 -->\n<svg width=\"380pt\" height=\"98pt\"\n viewBox=\"0.00 0.00 380.00 98.00\" xmlns=\"http://www.w3.org/2000/svg\" xmlns:xlink=\"http://www.w3.org/1999/xlink\">\n<g id=\"graph0\" class=\"graph\" transform=\"scale(1 1) rotate(0) translate(4 94)\">\n<title>%3</title>\n<polygon fill=\"#ffffff\" stroke=\"transparent\" points=\"-4,4 -4,-94 376,-94 376,4 -4,4\"/>\n<!-- 0 -->\n<g id=\"node1\" class=\"node\">\n<title>0</title>\n<ellipse fill=\"none\" stroke=\"#000000\" cx=\"27\" cy=\"-45\" rx=\"27\" ry=\"18\"/>\n<text text-anchor=\"middle\" x=\"27\" y=\"-41.3\" font-family=\"Times,serif\" font-size=\"14.00\" fill=\"#000000\">0</text>\n</g>\n<!-- 1 -->\n<g id=\"node2\" class=\"node\">\n<title>1</title>\n<ellipse fill=\"none\" stroke=\"#000000\" cx=\"133\" cy=\"-72\" rx=\"27\" ry=\"18\"/>\n<text text-anchor=\"middle\" x=\"133\" y=\"-68.3\" font-family=\"Times,serif\" font-size=\"14.00\" fill=\"#000000\">1</text>\n</g>\n<!-- 0&#45;&gt;1 -->\n<g id=\"edge1\" class=\"edge\">\n<title>0&#45;&gt;1</title>\n<path fill=\"none\" stroke=\"#000000\" d=\"M52.3896,-51.4672C65.9255,-54.915 82.7949,-59.2119 97.5982,-62.9826\"/>\n<polygon fill=\"#000000\" stroke=\"#000000\" points=\"96.8956,-66.4153 107.4502,-65.492 98.6235,-59.6319 96.8956,-66.4153\"/>\n<text text-anchor=\"middle\" x=\"80\" y=\"-64.8\" font-family=\"Times,serif\" font-size=\"14.00\" fill=\"#000000\">10</text>\n</g>\n<!-- 2 -->\n<g id=\"node3\" class=\"node\">\n<title>2</title>\n<ellipse fill=\"none\" stroke=\"#000000\" cx=\"133\" cy=\"-18\" rx=\"27\" ry=\"18\"/>\n<text text-anchor=\"middle\" x=\"133\" y=\"-14.3\" font-family=\"Times,serif\" font-size=\"14.00\" fill=\"#000000\">2</text>\n</g>\n<!-- 0&#45;&gt;2 -->\n<g id=\"edge2\" class=\"edge\">\n<title>0&#45;&gt;2</title>\n<path fill=\"none\" stroke=\"#000000\" d=\"M52.3896,-38.5328C65.9255,-35.085 82.7949,-30.7881 97.5982,-27.0174\"/>\n<polygon fill=\"#000000\" stroke=\"#000000\" points=\"98.6235,-30.3681 107.4502,-24.508 96.8956,-23.5847 98.6235,-30.3681\"/>\n<text text-anchor=\"middle\" x=\"80\" y=\"-37.8\" font-family=\"Times,serif\" font-size=\"14.00\" fill=\"#000000\">20</text>\n</g>\n<!-- 4 -->\n<g id=\"node5\" class=\"node\">\n<title>4</title>\n<ellipse fill=\"none\" stroke=\"#000000\" cx=\"239\" cy=\"-72\" rx=\"27\" ry=\"18\"/>\n<text text-anchor=\"middle\" x=\"239\" y=\"-68.3\" font-family=\"Times,serif\" font-size=\"14.00\" fill=\"#000000\">4</text>\n</g>\n<!-- 1&#45;&gt;4 -->\n<g id=\"edge4\" class=\"edge\">\n<title>1&#45;&gt;4</title>\n<path fill=\"none\" stroke=\"#000000\" d=\"M160.0225,-72C172.6333,-72 187.8509,-72 201.5484,-72\"/>\n<polygon fill=\"#000000\" stroke=\"#000000\" points=\"201.6583,-75.5001 211.6582,-72 201.6582,-68.5001 201.6583,-75.5001\"/>\n<text text-anchor=\"middle\" x=\"186\" y=\"-75.8\" font-family=\"Times,serif\" font-size=\"14.00\" fill=\"#000000\">20</text>\n</g>\n<!-- 3 -->\n<g id=\"node4\" class=\"node\">\n<title>3</title>\n<ellipse fill=\"none\" stroke=\"#000000\" cx=\"239\" cy=\"-18\" rx=\"27\" ry=\"18\"/>\n<text text-anchor=\"middle\" x=\"239\" y=\"-14.3\" font-family=\"Times,serif\" font-size=\"14.00\" fill=\"#000000\">3</text>\n</g>\n<!-- 2&#45;&gt;3 -->\n<g id=\"edge3\" class=\"edge\">\n<title>2&#45;&gt;3</title>\n<path fill=\"none\" stroke=\"#000000\" d=\"M160.0225,-18C172.6333,-18 187.8509,-18 201.5484,-18\"/>\n<polygon fill=\"#000000\" stroke=\"#000000\" points=\"201.6583,-21.5001 211.6582,-18 201.6582,-14.5001 201.6583,-21.5001\"/>\n<text text-anchor=\"middle\" x=\"186\" y=\"-21.8\" font-family=\"Times,serif\" font-size=\"14.00\" fill=\"#000000\">40</text>\n</g>\n<!-- 5 -->\n<g id=\"node6\" class=\"node\">\n<title>5</title>\n<ellipse fill=\"none\" stroke=\"#000000\" cx=\"345\" cy=\"-72\" rx=\"27\" ry=\"18\"/>\n<text text-anchor=\"middle\" x=\"345\" y=\"-68.3\" font-family=\"Times,serif\" font-size=\"14.00\" fill=\"#000000\">5</text>\n</g>\n<!-- 4&#45;&gt;5 -->\n<g id=\"edge5\" class=\"edge\">\n<title>4&#45;&gt;5</title>\n<path fill=\"none\" stroke=\"#000000\" d=\"M266.0225,-72C278.6333,-72 293.8509,-72 307.5484,-72\"/>\n<polygon fill=\"#000000\" stroke=\"#000000\" points=\"307.6583,-75.5001 317.6582,-72 307.6582,-68.5001 307.6583,-75.5001\"/>\n<text text-anchor=\"middle\" x=\"292\" y=\"-75.8\" font-family=\"Times,serif\" font-size=\"14.00\" fill=\"#000000\">21</text>\n</g>\n</g>\n</svg>\n"
          },
          "metadata": {
            "tags": []
          },
          "execution_count": 61
        }
      ]
    },
    {
      "cell_type": "code",
      "metadata": {
        "id": "u-wur9Z8dVK-",
        "colab_type": "code",
        "colab": {}
      },
      "source": [
        ""
      ],
      "execution_count": null,
      "outputs": []
    }
  ]
}