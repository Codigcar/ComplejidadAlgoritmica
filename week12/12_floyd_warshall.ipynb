{
  "nbformat": 4,
  "nbformat_minor": 0,
  "metadata": {
    "colab": {
      "name": "Copia de 12-floyd-warshall.ipynb",
      "provenance": [],
      "include_colab_link": true
    },
    "kernelspec": {
      "name": "python3",
      "display_name": "Python 3"
    }
  },
  "cells": [
    {
      "cell_type": "markdown",
      "metadata": {
        "id": "view-in-github",
        "colab_type": "text"
      },
      "source": [
        "<a href=\"https://colab.research.google.com/github/Codigcar/ComplejidadAlgoritmica/blob/master/week12/12_floyd_warshall.ipynb\" target=\"_parent\"><img src=\"https://colab.research.google.com/assets/colab-badge.svg\" alt=\"Open In Colab\"/></a>"
      ]
    },
    {
      "cell_type": "code",
      "metadata": {
        "id": "V3gdraj5OA8G",
        "colab_type": "code",
        "colab": {}
      },
      "source": [
        "import math\n",
        "import graphviz as gv\n",
        "import numpy as np"
      ],
      "execution_count": null,
      "outputs": []
    },
    {
      "cell_type": "code",
      "metadata": {
        "id": "coIxw-5dN0ZS",
        "colab_type": "code",
        "colab": {}
      },
      "source": [
        "def floydWarshall(G):\n",
        "    n = len(G)\n",
        "    cost = [[math.inf]*n for _ in range(n)]\n",
        "    path = [[-1]*n for _ in range(n)]\n",
        "\n",
        "    for u in range(n):\n",
        "        for v, w in G[u]:\n",
        "            cost[u][v] = w\n",
        "            path[u][v] = u\n",
        "\n",
        "    for k in range(n):\n",
        "        for i in range(n):\n",
        "            for j in range(n):\n",
        "                if i != j and k != j and k != i:\n",
        "                    f = cost[i][k] + cost[k][j]\n",
        "                    if f < cost[i][j]:\n",
        "                        cost[i][j] = f\n",
        "                        path[i][j] = path[k][j]\n",
        "\n",
        "    return path, cost"
      ],
      "execution_count": null,
      "outputs": []
    },
    {
      "cell_type": "code",
      "metadata": {
        "id": "Ni7eTPfEPDNx",
        "colab_type": "code",
        "colab": {
          "base_uri": "https://localhost:8080/",
          "height": 34
        },
        "outputId": "3d1bee71-184b-4a9e-cba9-78cd19c67eb9"
      },
      "source": [
        "%%writefile grafito.al\n",
        "*\n",
        "0,5 5,6 6,7\n",
        "0,6 4,4 6,4\n",
        "1,3\n",
        "6,5 7,6\n",
        "3,3\n",
        "*\n",
        "*"
      ],
      "execution_count": null,
      "outputs": [
        {
          "output_type": "stream",
          "text": [
            "Writing grafito.al\n"
          ],
          "name": "stdout"
        }
      ]
    },
    {
      "cell_type": "code",
      "metadata": {
        "id": "WDKhDGRkPhE5",
        "colab_type": "code",
        "colab": {
          "base_uri": "https://localhost:8080/",
          "height": 151
        },
        "outputId": "b81cfba9-6381-42fe-eb4b-cd8f15aa1381"
      },
      "source": [
        "G = []\n",
        "with open(\"grafito.al\") as file:\n",
        "    for line in file:\n",
        "        line = line.strip()\n",
        "        if line == \"*\":\n",
        "            G.append([])\n",
        "        else:\n",
        "            arcs = line.split(' ')\n",
        "            arcs = [e.split(',') for e in arcs]\n",
        "            G.append([(int(u), int(w)) for u, w in arcs])\n",
        "\n",
        "for r in G:\n",
        "    print(r)"
      ],
      "execution_count": null,
      "outputs": [
        {
          "output_type": "stream",
          "text": [
            "[]\n",
            "[(0, 5), (5, 6), (6, 7)]\n",
            "[(0, 6), (4, 4), (6, 4)]\n",
            "[(1, 3)]\n",
            "[(6, 5), (7, 6)]\n",
            "[(3, 3)]\n",
            "[]\n",
            "[]\n"
          ],
          "name": "stdout"
        }
      ]
    },
    {
      "cell_type": "code",
      "metadata": {
        "id": "MCU0WBsCQI-G",
        "colab_type": "code",
        "colab": {}
      },
      "source": [
        "def drawAdjList(G):\n",
        "    n = len(G)\n",
        "    dot = gv.Digraph(comment=\"G\")\n",
        "\n",
        "    for u in range(n):\n",
        "        dot.node(str(u), str(u))\n",
        "        \n",
        "    for u in range(n):\n",
        "        for v, w in G[u]:\n",
        "            dot.edge(str(u), str(v), label=str(w))\n",
        "    \n",
        "    return dot"
      ],
      "execution_count": null,
      "outputs": []
    },
    {
      "cell_type": "code",
      "metadata": {
        "id": "dJmfSWSjRXC7",
        "colab_type": "code",
        "colab": {
          "base_uri": "https://localhost:8080/",
          "height": 312
        },
        "outputId": "d6181700-f285-460e-fe02-3fb085a97e8f"
      },
      "source": [
        "drawAdjList(G)"
      ],
      "execution_count": null,
      "outputs": [
        {
          "output_type": "execute_result",
          "data": {
            "text/plain": [
              "<graphviz.dot.Digraph at 0x7f5dc16067b8>"
            ],
            "image/svg+xml": "<?xml version=\"1.0\" encoding=\"UTF-8\" standalone=\"no\"?>\n<!DOCTYPE svg PUBLIC \"-//W3C//DTD SVG 1.1//EN\"\n \"http://www.w3.org/Graphics/SVG/1.1/DTD/svg11.dtd\">\n<!-- Generated by graphviz version 2.40.1 (20161225.0304)\n -->\n<!-- Title: %3 Pages: 1 -->\n<svg width=\"348pt\" height=\"218pt\"\n viewBox=\"0.00 0.00 348.00 218.00\" xmlns=\"http://www.w3.org/2000/svg\" xmlns:xlink=\"http://www.w3.org/1999/xlink\">\n<g id=\"graph0\" class=\"graph\" transform=\"scale(1 1) rotate(0) translate(4 214)\">\n<title>%3</title>\n<polygon fill=\"#ffffff\" stroke=\"transparent\" points=\"-4,4 -4,-214 344,-214 344,4 -4,4\"/>\n<!-- 0 -->\n<g id=\"node1\" class=\"node\">\n<title>0</title>\n<ellipse fill=\"none\" stroke=\"#000000\" cx=\"180\" cy=\"-105\" rx=\"27\" ry=\"18\"/>\n<text text-anchor=\"middle\" x=\"180\" y=\"-101.3\" font-family=\"Times,serif\" font-size=\"14.00\" fill=\"#000000\">0</text>\n</g>\n<!-- 1 -->\n<g id=\"node2\" class=\"node\">\n<title>1</title>\n<ellipse fill=\"none\" stroke=\"#000000\" cx=\"106\" cy=\"-192\" rx=\"27\" ry=\"18\"/>\n<text text-anchor=\"middle\" x=\"106\" y=\"-188.3\" font-family=\"Times,serif\" font-size=\"14.00\" fill=\"#000000\">1</text>\n</g>\n<!-- 1&#45;&gt;0 -->\n<g id=\"edge1\" class=\"edge\">\n<title>1&#45;&gt;0</title>\n<path fill=\"none\" stroke=\"#000000\" d=\"M121.4003,-176.9614C127.6582,-170.6474 134.8486,-163.1267 141,-156 148.2103,-147.6466 155.6764,-138.1269 162.1221,-129.5922\"/>\n<polygon fill=\"#000000\" stroke=\"#000000\" points=\"165.0096,-131.5748 168.1805,-121.4656 159.3975,-127.391 165.0096,-131.5748\"/>\n<text text-anchor=\"middle\" x=\"158\" y=\"-144.8\" font-family=\"Times,serif\" font-size=\"14.00\" fill=\"#000000\">5</text>\n</g>\n<!-- 5 -->\n<g id=\"node6\" class=\"node\">\n<title>5</title>\n<ellipse fill=\"none\" stroke=\"#000000\" cx=\"64\" cy=\"-105\" rx=\"27\" ry=\"18\"/>\n<text text-anchor=\"middle\" x=\"64\" y=\"-101.3\" font-family=\"Times,serif\" font-size=\"14.00\" fill=\"#000000\">5</text>\n</g>\n<!-- 1&#45;&gt;5 -->\n<g id=\"edge2\" class=\"edge\">\n<title>1&#45;&gt;5</title>\n<path fill=\"none\" stroke=\"#000000\" d=\"M97.7022,-174.8116C91.7196,-162.4191 83.5339,-145.4631 76.728,-131.3651\"/>\n<polygon fill=\"#000000\" stroke=\"#000000\" points=\"79.7801,-129.6366 72.2806,-122.1527 73.4762,-132.6799 79.7801,-129.6366\"/>\n<text text-anchor=\"middle\" x=\"92\" y=\"-144.8\" font-family=\"Times,serif\" font-size=\"14.00\" fill=\"#000000\">6</text>\n</g>\n<!-- 6 -->\n<g id=\"node7\" class=\"node\">\n<title>6</title>\n<ellipse fill=\"none\" stroke=\"#000000\" cx=\"241\" cy=\"-18\" rx=\"27\" ry=\"18\"/>\n<text text-anchor=\"middle\" x=\"241\" y=\"-14.3\" font-family=\"Times,serif\" font-size=\"14.00\" fill=\"#000000\">6</text>\n</g>\n<!-- 1&#45;&gt;6 -->\n<g id=\"edge3\" class=\"edge\">\n<title>1&#45;&gt;6</title>\n<path fill=\"none\" stroke=\"#000000\" d=\"M107.3323,-173.9907C109.7835,-151.6413 116.6872,-113.2745 136,-87 154.5078,-61.8207 185.1839,-43.2142 208.6131,-31.7093\"/>\n<polygon fill=\"#000000\" stroke=\"#000000\" points=\"210.2827,-34.7917 217.8337,-27.3598 207.2962,-28.4607 210.2827,-34.7917\"/>\n<text text-anchor=\"middle\" x=\"140\" y=\"-101.3\" font-family=\"Times,serif\" font-size=\"14.00\" fill=\"#000000\">7</text>\n</g>\n<!-- 2 -->\n<g id=\"node3\" class=\"node\">\n<title>2</title>\n<ellipse fill=\"none\" stroke=\"#000000\" cx=\"243\" cy=\"-192\" rx=\"27\" ry=\"18\"/>\n<text text-anchor=\"middle\" x=\"243\" y=\"-188.3\" font-family=\"Times,serif\" font-size=\"14.00\" fill=\"#000000\">2</text>\n</g>\n<!-- 2&#45;&gt;0 -->\n<g id=\"edge4\" class=\"edge\">\n<title>2&#45;&gt;0</title>\n<path fill=\"none\" stroke=\"#000000\" d=\"M231.1502,-175.636C221.7347,-162.6336 208.4193,-144.2457 197.7344,-129.4904\"/>\n<polygon fill=\"#000000\" stroke=\"#000000\" points=\"200.4966,-127.3373 191.7967,-121.2907 194.827,-131.4429 200.4966,-127.3373\"/>\n<text text-anchor=\"middle\" x=\"219\" y=\"-144.8\" font-family=\"Times,serif\" font-size=\"14.00\" fill=\"#000000\">6</text>\n</g>\n<!-- 4 -->\n<g id=\"node5\" class=\"node\">\n<title>4</title>\n<ellipse fill=\"none\" stroke=\"#000000\" cx=\"296\" cy=\"-105\" rx=\"27\" ry=\"18\"/>\n<text text-anchor=\"middle\" x=\"296\" y=\"-101.3\" font-family=\"Times,serif\" font-size=\"14.00\" fill=\"#000000\">4</text>\n</g>\n<!-- 2&#45;&gt;4 -->\n<g id=\"edge5\" class=\"edge\">\n<title>2&#45;&gt;4</title>\n<path fill=\"none\" stroke=\"#000000\" d=\"M253.2189,-175.2255C260.9176,-162.588 271.6096,-145.0371 280.3785,-130.6429\"/>\n<polygon fill=\"#000000\" stroke=\"#000000\" points=\"283.5988,-132.084 285.8124,-121.723 277.6208,-128.4422 283.5988,-132.084\"/>\n<text text-anchor=\"middle\" x=\"276\" y=\"-144.8\" font-family=\"Times,serif\" font-size=\"14.00\" fill=\"#000000\">4</text>\n</g>\n<!-- 2&#45;&gt;6 -->\n<g id=\"edge6\" class=\"edge\">\n<title>2&#45;&gt;6</title>\n<path fill=\"none\" stroke=\"#000000\" d=\"M242.7897,-173.7078C242.4407,-143.3436 241.7393,-82.3226 241.3258,-46.3464\"/>\n<polygon fill=\"#000000\" stroke=\"#000000\" points=\"244.8222,-46.0062 241.2074,-36.0471 237.8227,-46.0867 244.8222,-46.0062\"/>\n<text text-anchor=\"middle\" x=\"246\" y=\"-101.3\" font-family=\"Times,serif\" font-size=\"14.00\" fill=\"#000000\">4</text>\n</g>\n<!-- 3 -->\n<g id=\"node4\" class=\"node\">\n<title>3</title>\n<ellipse fill=\"none\" stroke=\"#000000\" cx=\"27\" cy=\"-18\" rx=\"27\" ry=\"18\"/>\n<text text-anchor=\"middle\" x=\"27\" y=\"-14.3\" font-family=\"Times,serif\" font-size=\"14.00\" fill=\"#000000\">3</text>\n</g>\n<!-- 3&#45;&gt;1 -->\n<g id=\"edge7\" class=\"edge\">\n<title>3&#45;&gt;1</title>\n<path fill=\"none\" stroke=\"#000000\" d=\"M20.728,-35.7242C14.1496,-57.446 6.4867,-94.8327 20,-123 31.3448,-146.6472 55.1811,-164.7472 74.8877,-176.464\"/>\n<polygon fill=\"#000000\" stroke=\"#000000\" points=\"73.1659,-179.5111 83.5918,-181.3952 76.6164,-173.4206 73.1659,-179.5111\"/>\n<text text-anchor=\"middle\" x=\"24\" y=\"-101.3\" font-family=\"Times,serif\" font-size=\"14.00\" fill=\"#000000\">3</text>\n</g>\n<!-- 4&#45;&gt;6 -->\n<g id=\"edge8\" class=\"edge\">\n<title>4&#45;&gt;6</title>\n<path fill=\"none\" stroke=\"#000000\" d=\"M285.3954,-88.2255C277.3301,-75.4677 266.0992,-57.7024 256.9516,-43.2325\"/>\n<polygon fill=\"#000000\" stroke=\"#000000\" points=\"259.874,-41.3053 251.572,-34.723 253.9572,-45.0458 259.874,-41.3053\"/>\n<text text-anchor=\"middle\" x=\"275\" y=\"-57.8\" font-family=\"Times,serif\" font-size=\"14.00\" fill=\"#000000\">5</text>\n</g>\n<!-- 7 -->\n<g id=\"node8\" class=\"node\">\n<title>7</title>\n<ellipse fill=\"none\" stroke=\"#000000\" cx=\"313\" cy=\"-18\" rx=\"27\" ry=\"18\"/>\n<text text-anchor=\"middle\" x=\"313\" y=\"-14.3\" font-family=\"Times,serif\" font-size=\"14.00\" fill=\"#000000\">7</text>\n</g>\n<!-- 4&#45;&gt;7 -->\n<g id=\"edge9\" class=\"edge\">\n<title>4&#45;&gt;7</title>\n<path fill=\"none\" stroke=\"#000000\" d=\"M299.5224,-86.9735C301.8246,-75.1918 304.879,-59.5607 307.4978,-46.1581\"/>\n<polygon fill=\"#000000\" stroke=\"#000000\" points=\"310.9993,-46.489 309.4821,-36.0034 304.1292,-45.1465 310.9993,-46.489\"/>\n<text text-anchor=\"middle\" x=\"309\" y=\"-57.8\" font-family=\"Times,serif\" font-size=\"14.00\" fill=\"#000000\">6</text>\n</g>\n<!-- 5&#45;&gt;3 -->\n<g id=\"edge10\" class=\"edge\">\n<title>5&#45;&gt;3</title>\n<path fill=\"none\" stroke=\"#000000\" d=\"M56.5125,-87.3943C51.3469,-75.2482 44.3804,-58.8674 38.513,-45.0711\"/>\n<polygon fill=\"#000000\" stroke=\"#000000\" points=\"41.6109,-43.4121 34.4764,-35.5796 35.1692,-46.1517 41.6109,-43.4121\"/>\n<text text-anchor=\"middle\" x=\"52\" y=\"-57.8\" font-family=\"Times,serif\" font-size=\"14.00\" fill=\"#000000\">3</text>\n</g>\n</g>\n</svg>\n"
          },
          "metadata": {
            "tags": []
          },
          "execution_count": 21
        }
      ]
    },
    {
      "cell_type": "code",
      "metadata": {
        "id": "X1L-20BURYQF",
        "colab_type": "code",
        "colab": {
          "base_uri": "https://localhost:8080/",
          "height": 286
        },
        "outputId": "baab7f4a-7e4c-4413-c517-196492c0a1d2"
      },
      "source": [
        "path, cost = floydWarshall(G)\n",
        "print(np.array(cost))\n",
        "print(np.array(path))"
      ],
      "execution_count": null,
      "outputs": [
        {
          "output_type": "stream",
          "text": [
            "[[inf inf inf inf inf inf inf inf]\n",
            " [ 5. inf inf  9. inf  6.  7. inf]\n",
            " [ 6. inf inf inf  4. inf  4. 10.]\n",
            " [ 8.  3. inf inf inf  9. 10. inf]\n",
            " [inf inf inf inf inf inf  5.  6.]\n",
            " [11.  6. inf  3. inf inf 13. inf]\n",
            " [inf inf inf inf inf inf inf inf]\n",
            " [inf inf inf inf inf inf inf inf]]\n",
            "[[-1 -1 -1 -1 -1 -1 -1 -1]\n",
            " [ 1 -1 -1  5 -1  1  1 -1]\n",
            " [ 2 -1 -1 -1  2 -1  2  4]\n",
            " [ 1  3 -1 -1 -1  1  1 -1]\n",
            " [-1 -1 -1 -1 -1 -1  4  4]\n",
            " [ 1  3 -1  5 -1 -1  1 -1]\n",
            " [-1 -1 -1 -1 -1 -1 -1 -1]\n",
            " [-1 -1 -1 -1 -1 -1 -1 -1]]\n"
          ],
          "name": "stdout"
        }
      ]
    },
    {
      "cell_type": "code",
      "metadata": {
        "id": "6z11WlF1RlGS",
        "colab_type": "code",
        "colab": {}
      },
      "source": [
        ""
      ],
      "execution_count": null,
      "outputs": []
    }
  ]
}