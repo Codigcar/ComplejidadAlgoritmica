{
  "nbformat": 4,
  "nbformat_minor": 0,
  "metadata": {
    "colab": {
      "name": "ej02WordCount.ipynb",
      "provenance": [],
      "authorship_tag": "ABX9TyOtZL9mY/8QAa3xaU8u0LN9",
      "include_colab_link": true
    },
    "kernelspec": {
      "name": "python3",
      "display_name": "Python 3"
    }
  },
  "cells": [
    {
      "cell_type": "markdown",
      "metadata": {
        "id": "view-in-github",
        "colab_type": "text"
      },
      "source": [
        "<a href=\"https://colab.research.google.com/github/Codigcar/ComplejidadAlgoritmica/blob/master/week03/ej02WordCount.ipynb\" target=\"_parent\"><img src=\"https://colab.research.google.com/assets/colab-badge.svg\" alt=\"Open In Colab\"/></a>"
      ]
    },
    {
      "cell_type": "code",
      "metadata": {
        "id": "zd8GO9QHSi-A",
        "colab_type": "code",
        "colab": {}
      },
      "source": [
        "def wordsInLine(line):\n",
        "  words = line.split(' ')\n",
        "\n",
        "  def counter(i, f):\n",
        "    if i == f:\n",
        "      return 1\n",
        "    else:\n",
        "      m = (f + i) // 2\n",
        "      return counter(i, m) + counter(m+1, f)\n",
        "\n",
        "  return counter(0, len(words) - 1)\n",
        "\n",
        "# lines = [line for line in text.split('\\n') if line != '']\n",
        "def wordsInText(text):\n",
        "  lines = text.split('/n')\n",
        "\n",
        "  def counter(i, f):\n",
        "    if i == f:\n",
        "      return wordsInLine(lines[i])\n",
        "    else:\n",
        "      m = (f + i) // 2\n",
        "      return counter(i, m) + counter(m+1, f)\n",
        "    \n",
        "  return counter(0, len(lines) - 1)\n",
        "  "
      ],
      "execution_count": 0,
      "outputs": []
    },
    {
      "cell_type": "code",
      "metadata": {
        "id": "kWjGwTHuT7F3",
        "colab_type": "code",
        "colab": {
          "base_uri": "https://localhost:8080/",
          "height": 34
        },
        "outputId": "3ba8cede-8a11-4cbe-96db-9cd780798381"
      },
      "source": [
        "text =\"\"\"hola como estas\"\"\"\n",
        "print(wordsInText(text))"
      ],
      "execution_count": 11,
      "outputs": [
        {
          "output_type": "stream",
          "text": [
            "3\n"
          ],
          "name": "stdout"
        }
      ]
    }
  ]
}