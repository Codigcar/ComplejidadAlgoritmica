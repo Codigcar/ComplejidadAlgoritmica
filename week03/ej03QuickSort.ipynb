{
  "nbformat": 4,
  "nbformat_minor": 0,
  "metadata": {
    "colab": {
      "name": "ej03QuickSort.ipynb",
      "provenance": [],
      "authorship_tag": "ABX9TyOPKyLKnDCLS10XtHg+3KPV",
      "include_colab_link": true
    },
    "kernelspec": {
      "name": "python3",
      "display_name": "Python 3"
    }
  },
  "cells": [
    {
      "cell_type": "markdown",
      "metadata": {
        "id": "view-in-github",
        "colab_type": "text"
      },
      "source": [
        "<a href=\"https://colab.research.google.com/github/Codigcar/ComplejidadAlgoritmica/blob/master/week03/ej03QuickSort.ipynb\" target=\"_parent\"><img src=\"https://colab.research.google.com/assets/colab-badge.svg\" alt=\"Open In Colab\"/></a>"
      ]
    },
    {
      "cell_type": "code",
      "metadata": {
        "id": "vxtImTwuaLbL",
        "colab_type": "code",
        "colab": {}
      },
      "source": [
        "def quicksort(a):\n",
        "  n = len(a)\n",
        "\n",
        "  def partition(i,f):\n",
        "    piv = a[i]\n",
        "    l = i + 1\n",
        "    r = f\n",
        "    while l <= r:\n",
        "      if a[l] <= piv:\n",
        "        l += 1\n",
        "      elif a[r] >= piv:\n",
        "        r -= 1\n",
        "      else:\n",
        "        a[l], a[r] = a[r], a[l]\n",
        "        l += 1\n",
        "        r -=1\n",
        "    \n",
        "    \n",
        "\n",
        "    if r != i:\n",
        "        a[i], a[r] = a[r], a[i]\n",
        "    \n",
        "\n",
        "    return r\n",
        "\n",
        "  def qs(i, f):\n",
        "     if f>i:\n",
        "       p = partition(i,f)\n",
        "       qs(i, p-1)\n",
        "       qs(p+1, f)\n",
        "\n",
        "  qs(0, n-1)"
      ],
      "execution_count": 0,
      "outputs": []
    },
    {
      "cell_type": "code",
      "metadata": {
        "id": "1FBkjt0Sa-3F",
        "colab_type": "code",
        "colab": {
          "base_uri": "https://localhost:8080/",
          "height": 71
        },
        "outputId": "0ff1917b-0eab-409f-c011-63f20b0e6e70"
      },
      "source": [
        "import random as rnd\n",
        "arreglo = [rnd.randint(1,100) for _ in range(50)]\n",
        "print(arreglo)\n",
        "quicksort(arreglo)\n",
        "print(arreglo)"
      ],
      "execution_count": 7,
      "outputs": [
        {
          "output_type": "stream",
          "text": [
            "[43, 39, 80, 67, 78, 98, 45, 14, 41, 6, 91, 71, 18, 51, 49, 73, 37, 92, 9, 73, 6, 56, 11, 40, 39, 23, 21, 47, 20, 86, 70, 30, 23, 68, 56, 74, 57, 16, 2, 21, 10, 54, 50, 24, 73, 45, 96, 49, 35, 28]\n",
            "[2, 6, 6, 9, 10, 11, 14, 16, 18, 20, 21, 21, 23, 23, 24, 28, 30, 35, 37, 39, 39, 40, 41, 43, 45, 45, 47, 49, 49, 50, 51, 54, 56, 56, 57, 67, 68, 70, 71, 73, 73, 73, 74, 78, 80, 86, 91, 92, 96, 98]\n"
          ],
          "name": "stdout"
        }
      ]
    }
  ]
}