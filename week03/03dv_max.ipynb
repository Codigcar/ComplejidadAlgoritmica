{
  "nbformat": 4,
  "nbformat_minor": 0,
  "metadata": {
    "colab": {
      "name": "03dv-max.ipynb",
      "provenance": [],
      "collapsed_sections": [],
      "authorship_tag": "ABX9TyOeUnJFwj1TWlcv2CXghX1K",
      "include_colab_link": true
    },
    "kernelspec": {
      "name": "python3",
      "display_name": "Python 3"
    }
  },
  "cells": [
    {
      "cell_type": "markdown",
      "metadata": {
        "id": "view-in-github",
        "colab_type": "text"
      },
      "source": [
        "<a href=\"https://colab.research.google.com/github/Codigcar/ComplejidadAlgoritmica/blob/master/week03/03dv_max.ipynb\" target=\"_parent\"><img src=\"https://colab.research.google.com/assets/colab-badge.svg\" alt=\"Open In Colab\"/></a>"
      ]
    },
    {
      "cell_type": "markdown",
      "metadata": {
        "id": "tX_uqruD4txL",
        "colab_type": "text"
      },
      "source": [
        "###Encontrar el máximo elemento de un arreglo\n"
      ]
    },
    {
      "cell_type": "markdown",
      "metadata": {
        "id": "-6NiNThU48kH",
        "colab_type": "text"
      },
      "source": [
        "##Metodo Clásico"
      ]
    },
    {
      "cell_type": "code",
      "metadata": {
        "id": "apHOWmgz4hzv",
        "colab_type": "code",
        "colab": {}
      },
      "source": [
        ""
      ],
      "execution_count": 0,
      "outputs": []
    },
    {
      "cell_type": "markdown",
      "metadata": {
        "id": "ARkrY5hp6XsW",
        "colab_type": "text"
      },
      "source": [
        "##Metodo Divide Venceras\n"
      ]
    },
    {
      "cell_type": "code",
      "metadata": {
        "id": "Oon5AB-246pH",
        "colab_type": "code",
        "colab": {}
      },
      "source": [
        "def findmaxdvINEFICIENTE(a):\n",
        "  n = len(a)\n",
        "  if n == 1: \n",
        "    return a[0]\n",
        "  else:\n",
        "    m = len(a)//2\n",
        "    max1 = findmaxdvINEFICIENTE(a[:m])\n",
        "    max2 = findmaxdvINEFICIENTE(a[m:])\n",
        "    return max1 if max1 > max2 else max2"
      ],
      "execution_count": 0,
      "outputs": []
    },
    {
      "cell_type": "code",
      "metadata": {
        "id": "Omcic3748JNG",
        "colab_type": "code",
        "outputId": "00a1f6a1-39a4-4b91-bfe8-2bf62311f837",
        "colab": {
          "base_uri": "https://localhost:8080/",
          "height": 34
        }
      },
      "source": [
        "a = [1,2,3]\n",
        "print(findmaxdvINEFICIENTE(a))"
      ],
      "execution_count": 0,
      "outputs": [
        {
          "output_type": "stream",
          "text": [
            "3\n"
          ],
          "name": "stdout"
        }
      ]
    },
    {
      "cell_type": "code",
      "metadata": {
        "id": "IzMcwBnO652y",
        "colab_type": "code",
        "colab": {}
      },
      "source": [
        "def findmaxdv(a,i,f):\n",
        "  n = f - i +1\n",
        "  if n == 1: \n",
        "    return a[i]\n",
        "  else:\n",
        "    m = (i + f)//2\n",
        "    max1 = findmaxdv(a, i, m)\n",
        "    max2 = findmaxdv(a, m+1, f)\n",
        "    return max1 if max1 > max2 else max2"
      ],
      "execution_count": 0,
      "outputs": []
    },
    {
      "cell_type": "code",
      "metadata": {
        "id": "X6lnzGEX8QfO",
        "colab_type": "code",
        "outputId": "be1294eb-46d4-426f-8c8a-f7bbd4aae9cf",
        "colab": {
          "base_uri": "https://localhost:8080/",
          "height": 34
        }
      },
      "source": [
        "b = [1,22,3]\n",
        "print(findmaxdv(b,0, len(b) -1))"
      ],
      "execution_count": 0,
      "outputs": [
        {
          "output_type": "stream",
          "text": [
            "22\n"
          ],
          "name": "stdout"
        }
      ]
    },
    {
      "cell_type": "markdown",
      "metadata": {
        "id": "6TdFo3n4__nW",
        "colab_type": "text"
      },
      "source": [
        "##Multiplicación"
      ]
    },
    {
      "cell_type": "code",
      "metadata": {
        "id": "w_c50iWf_6Hw",
        "colab_type": "code",
        "colab": {}
      },
      "source": [
        "def mult(a, b, n):\n",
        "  if(n == 1):\n",
        "    return a * b\n",
        "  else:\n",
        "    ai = a // 10**(n//2)\n",
        "    ad = a % 10**(n//2)\n",
        "    bi = b // 10**(n//2)\n",
        "    bd = b % 10**(n//2)\n",
        "\n",
        "    z1 = mult(ai,bi,n//2) * 10**n\n",
        "    z2 = (mult(ai,bd, n//2) + mult(ad, bi, n//2)) * 10**(n//2)\n",
        "    z3 = mult(ad,bd,n//2)\n",
        "    return z1 + z2 + z3"
      ],
      "execution_count": 0,
      "outputs": []
    },
    {
      "cell_type": "code",
      "metadata": {
        "id": "3H7DFbsNCOzo",
        "colab_type": "code",
        "outputId": "21b4454d-70f2-4a61-c700-668d4a1ac620",
        "colab": {
          "base_uri": "https://localhost:8080/",
          "height": 51
        }
      },
      "source": [
        "print(1234*5678, mult(1234,5678, 4))\n",
        "print(12341234*43214321, mult(12341234,43214321,8))"
      ],
      "execution_count": 0,
      "outputs": [
        {
          "output_type": "stream",
          "text": [
            "7006652 7006652\n",
            "533318047612114 533318047612114\n"
          ],
          "name": "stdout"
        }
      ]
    },
    {
      "cell_type": "markdown",
      "metadata": {
        "id": "679fDWdV8Isa",
        "colab_type": "text"
      },
      "source": [
        ""
      ]
    }
  ]
}